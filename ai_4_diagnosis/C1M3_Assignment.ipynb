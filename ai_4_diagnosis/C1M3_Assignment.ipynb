{
 "cells": [
  {
   "cell_type": "markdown",
   "metadata": {
    "colab_type": "text",
    "id": "NXW9aGLroXsV"
   },
   "source": [
    "<img src=\"https://miro.medium.com/max/2652/1*eTkBMyqdg9JodNcG_O4-Kw.jpeg\" width=\"100%\">\n",
    "\n",
    "[Image Source](https://medium.com/stanford-ai-for-healthcare/its-a-no-brainer-deep-learning-for-brain-mr-images-f60116397472)\n",
    "\n",
    "# Brain Tumor Auto-Segmentation for Magnetic Resonance Imaging (MRI)\n",
    "Welcome to the final part of the \"Artificial Intelligence for Medicine\" course 1!\n",
    "\n",
    "You will learn how to build a neural network to automatically segment tumor regions in brain, using [MRI (Magnetic Resonance Imaging](https://en.wikipedia.org/wiki/Magnetic_resonance_imaging)) scans.\n",
    "\n",
    "The MRI scan is one of the most common image modalities that we encounter in the radiology field.  \n",
    "Other data modalities include: \n",
    "- [Computer Tomography (CT)](https://en.wikipedia.org/wiki/CT_scan), \n",
    "- [Ultrasound](https://en.wikipedia.org/wiki/Ultrasound)\n",
    "- [X-Rays](https://en.wikipedia.org/wiki/X-ray). \n",
    "\n",
    "In this assignment we will be focusing on MRIs but many of our learnings applies to other mentioned modalities as well.  We'll walk you through some of the steps of training a deep learning model for segmentation.\n",
    "\n",
    "**You will learn:**\n",
    "\n",
    "-   What is in an MR image\n",
    "-   Standard data preparation techniques for MRI datasets\n",
    "-   Metrics and loss functions for segmentation\n",
    "-   Visualizing and evaluating segmentation models"
   ]
  },
  {
   "cell_type": "markdown",
   "metadata": {},
   "source": [
    "## Outline\n",
    "Use these links to jump to particular sections of this assignment!\n",
    "\n",
    "- [1. Dataset](#1)\n",
    "  - [1.1 What is an MRI?](#1-1)\n",
    "  - [1.2 MRI Data Processing](#1-2)\n",
    "  - [1.3 Exploring the Dataset](#1-3)\n",
    "  - [1.4 Data Preprocessing](#1-4)\n",
    "    - [1.4.1 Sub-volume Sampling](#1-4-1)\n",
    "    - [1.4.2 Standardization](#1-4-2)\n",
    "- [2. Model: 3D U-Net](#2)\n",
    "- [3. Metrics](#3)\n",
    "  - [3.1 Dice Coefficient](#3-1)\n",
    "  - [3.2 Soft Dice Loss](#3-2)\n",
    "- [4. Training](#4)\n",
    "- [5. Evaluation](#5)\n",
    "  - [5.1 Overall Performance](#5-1)\n",
    "  - [5.2 Patch-level Predictions](#5-2)\n",
    "  - [5.3 Running on Entire Scans](#5-3)"
   ]
  },
  {
   "cell_type": "markdown",
   "metadata": {
    "colab_type": "text",
    "id": "pTHrazBFcAtl"
   },
   "source": [
    "## Packages\n",
    "\n",
    "In this assignment, we'll make use of the following packages:\n",
    "\n",
    "- `keras` is a framework for building deep learning models.\n",
    "- `keras.backend` allows us to perform math operations on tensors.\n",
    "- `nibabel` will let us extract the images and labels from the files in our dataset.\n",
    "- `numpy` is a library for mathematical and scientific operations.\n",
    "-  `pandas` is what we'll use to manipulate our data.\n",
    "\n",
    "## Import Packages\n",
    "\n",
    "Run the next cell to import all the necessary packages, dependencies and custom util functions."
   ]
  },
  {
   "cell_type": "code",
   "execution_count": 1,
   "metadata": {
    "ExecuteTime": {
     "end_time": "2020-03-08T01:29:11.197002Z",
     "start_time": "2020-03-08T01:28:16.130730Z"
    },
    "colab": {
     "base_uri": "https://localhost:8080/",
     "height": 148
    },
    "colab_type": "code",
    "id": "sJz-IbUycEhT",
    "outputId": "49ae7bfe-c506-4b1a-c6ea-7a831bedfc09"
   },
   "outputs": [
    {
     "name": "stderr",
     "output_type": "stream",
     "text": [
      "Using TensorFlow backend.\n"
     ]
    }
   ],
   "source": [
    "import keras\n",
    "import json\n",
    "import numpy as np\n",
    "import pandas as pd\n",
    "import nibabel as nib\n",
    "import matplotlib.pyplot as plt\n",
    "\n",
    "from tensorflow.keras import backend as K \n",
    "\n",
    "import util"
   ]
  },
  {
   "cell_type": "markdown",
   "metadata": {
    "colab_type": "text",
    "id": "B563bDC1hUvr"
   },
   "source": [
    "<a name=\"1\"></a>\n",
    "# 1 Dataset\n",
    "<a name=\"1-1\"></a>\n",
    "## 1.1 What is an MRI?\n",
    "\n",
    "Magnetic resonance imaging (MRI) is an advanced imaging technique that is used to observe a variety of diseases and parts of the body. \n",
    "\n",
    "As we will see later, neural networks can analyze these images individually (as a radiologist would) or combine them into a single 3D volume to make predictions.\n",
    "\n",
    "At a high level, MRI works by measuring the radio waves emitting by atoms subjected to a magnetic field. \n",
    "\n",
    "<img src=\"https://miro.medium.com/max/1740/1*yC1Bt3IOzNv8Pp7t1v7F1Q.png\">\n",
    "\n",
    "In this assignment, we'll build a multi-class segmentation model. We'll  identify 3 different abnormalities in each image: edemas, non-enhancing tumors, and enhancing tumors.\n",
    "\n",
    "<a name=\"1-2\"></a>"
   ]
  },
  {
   "cell_type": "markdown",
   "metadata": {},
   "source": [
    "## 1.2 MRI Data Processing\n",
    "\n",
    "We often encounter MR images in the [DICOM format](https://en.wikipedia.org/wiki/DICOM). \n",
    "- The DICOM format is the output format for most commercial MRI scanners. This type of data can be processed using the [pydicom](https://pydicom.github.io/pydicom/stable/getting_started.html) Python library. \n",
    "\n",
    "In this assignment, we will be using the data from the [Decathlon 10 Challenge](https://decathlon-10.grand-challenge.org). This data has been mostly pre-processed for the competition participants, however in real practice, MRI data needs to be significantly pre-preprocessed before we can use it to train our models."
   ]
  },
  {
   "cell_type": "markdown",
   "metadata": {
    "colab_type": "text",
    "id": "aTg4vp-Eo86-"
   },
   "source": [
    "<a name=\"1-3\"></a>\n",
    "## 1.3 Exploring the Dataset\n",
    "\n",
    "Our dataset is stored in the [NifTI-1 format](https://nifti.nimh.nih.gov/nifti-1/) and we will be using the [NiBabel library](https://github.com/nipy/nibabel) to interact with the files. Each training sample is composed of two separate files:\n",
    "\n",
    "The first file is an image file containing a 4D array of MR image in the shape of (240, 240, 155, 4). \n",
    "-  The first 3 dimensions are the X, Y, and Z values for each point in the 3D volume, which is commonly called a voxel. \n",
    "- The 4th dimension is the values for 4 different sequences\n",
    "    - 0: FLAIR: \"Fluid Attenuated Inversion Recovery\" (FLAIR)\n",
    "    - 1: T1w: \"T1-weighted\"\n",
    "    - 2: t1gd: \"T1-weighted with gadolinium contrast enhancement\" (T1-Gd)\n",
    "    - 3: T2w: \"T2-weighted\"\n",
    "\n",
    "The second file in each training example is a label file containing a 3D array with the shape of (240, 240, 155).  \n",
    "- The integer values in this array indicate the \"label\" for each voxel in the corresponding image files:\n",
    "    - 0: background\n",
    "    - 1: edema\n",
    "    - 2: non-enhancing tumor\n",
    "    - 3: enhancing tumor\n",
    "\n",
    "We have access to a total of 484 training images which we will be splitting into a training (80%) and validation (20%) dataset.\n",
    "\n",
    "Let's begin by looking at one single case and visualizing the data! You have access to 10 different cases via this notebook and we strongly encourage you to explore the data further on your own."
   ]
  },
  {
   "cell_type": "markdown",
   "metadata": {
    "colab_type": "text",
    "id": "Gqgu96ccW0cJ"
   },
   "source": [
    "We'll use the [NiBabel library](https://nipy.org/nibabel/nibabel_images.html) to load the image and label for a case. The function is shown below to give you a sense of how it works. "
   ]
  },
  {
   "cell_type": "code",
   "execution_count": 2,
   "metadata": {
    "ExecuteTime": {
     "end_time": "2020-03-08T01:29:36.462907Z",
     "start_time": "2020-03-08T01:29:36.458910Z"
    },
    "colab": {},
    "colab_type": "code",
    "id": "AoW-WFWNW0cN"
   },
   "outputs": [],
   "source": [
    "# set home directory and data directory\n",
    "HOME_DIR = \"./BraTS-Data/\"\n",
    "DATA_DIR = HOME_DIR\n",
    "\n",
    "def load_case(image_nifty_file, label_nifty_file):\n",
    "    # load the image and label file, get the image content and return a numpy array for each\n",
    "    image = np.array(nib.load(image_nifty_file).get_fdata())\n",
    "    label = np.array(nib.load(label_nifty_file).get_fdata())\n",
    "    \n",
    "    return image, label"
   ]
  },
  {
   "cell_type": "markdown",
   "metadata": {
    "colab_type": "text",
    "id": "CzRraO9TW0cT"
   },
   "source": [
    "We'll now visualize an example.  For this, we use a pre-defined function we have written in the `util.py` file that uses `matplotlib` to generate a summary of the image. \n",
    "\n",
    "The colors correspond to each class.\n",
    "- Red is edema\n",
    "- Green is a non-enhancing tumor\n",
    "- Blue is an enhancing tumor. \n",
    "\n",
    "Do feel free to look at this function at your own time to understand how this is achieved."
   ]
  },
  {
   "cell_type": "code",
   "execution_count": null,
   "metadata": {
    "ExecuteTime": {
     "end_time": "2020-03-08T01:29:41.377380Z",
     "start_time": "2020-03-08T01:29:38.869873Z"
    },
    "colab": {
     "base_uri": "https://localhost:8080/",
     "height": 457
    },
    "colab_type": "code",
    "id": "ihLR2ZD-W0cU",
    "outputId": "dcf534ac-8c15-46d5-9851-a0fe35e05411"
   },
   "outputs": [],
   "source": [
    "image, label = load_case(DATA_DIR + \"imagesTr/BRATS_003.nii.gz\", DATA_DIR + \"labelsTr/BRATS_003.nii.gz\")\n",
    "image = util.get_labeled_image(image, label)\n",
    "\n",
    "util.plot_image_grid(image)"
   ]
  },
  {
   "cell_type": "markdown",
   "metadata": {
    "colab_type": "text",
    "id": "14GxIOrQW0ce"
   },
   "source": [
    "We've also written a utility function which generates a GIF that shows what it looks like to iterate over each axis."
   ]
  },
  {
   "cell_type": "code",
   "execution_count": 4,
   "metadata": {
    "ExecuteTime": {
     "end_time": "2020-03-08T01:29:46.121069Z",
     "start_time": "2020-03-08T01:29:42.475071Z"
    },
    "colab": {
     "base_uri": "https://localhost:8080/",
     "height": 257
    },
    "colab_type": "code",
    "id": "TJubVx44W0cf",
    "outputId": "a5ac10ef-be99-491f-cc04-1ace92434e25"
   },
   "outputs": [],
   "source": [
    "image, label = load_case(DATA_DIR + \"imagesTr/BRATS_003.nii.gz\", DATA_DIR + \"labelsTr/BRATS_003.nii.gz\")\n",
    "util.visualize_data_gif(util.get_labeled_image(image, label))"
   ]
  },
  {
   "cell_type": "markdown",
   "metadata": {},
   "source": [
    "**Reminder:** You can explore more images in the `imagesTr` directory by changing the image name file."
   ]
  },
  {
   "cell_type": "markdown",
   "metadata": {
    "colab_type": "text",
    "id": "dulCuzOnW0ch"
   },
   "source": [
    "<a name=\"1-4\"></a>\n",
    "## 1.4 Data Preprocessing using patches\n",
    "\n",
    "While our dataset is provided to us post-registration and in the NIfTI format, we still have to do some minor pre-processing before feeding the data to our model. \n",
    "\n",
    "##### Generate sub-volumes\n",
    "\n",
    "We are going to first generate \"patches\" of our data which you can think of as sub-volumes of the whole MR images. \n",
    "- The reason that we are generating patches is because a network that can process the entire volume at once will simply not fit inside our current environment's memory/GPU.\n",
    "- Therefore we will be using this common technique to generate spatially consistent sub-volumes of our data, which can be fed into our network.\n",
    "- Specifically, we will be generating randomly sampled sub-volumes of shape \\[160, 160, 16\\] from our images. \n",
    "- Furthermore, given that a large portion of the MRI volumes are just brain tissue or black background without any tumors, we want to make sure that we pick patches that at least include some amount of tumor data. \n",
    "- Therefore, we are only going to pick patches that have at most 95% non-tumor regions (so at least 5% tumor). \n",
    "- We do this by filtering the volumes based on the values present in the background labels.\n",
    "\n",
    "##### Standardization (mean 0, stdev 1)\n",
    "\n",
    "Lastly, given that the values in MR images cover a very wide range, we will standardize the values to have a mean of zero and standard deviation of 1. \n",
    "- This is a common technique in deep image processing since standardization makes it much easier for the network to learn.\n",
    "\n",
    "Let's walk through these steps in the following exercises."
   ]
  },
  {
   "cell_type": "markdown",
   "metadata": {
    "colab_type": "text",
    "id": "H8GLemPeW0cj"
   },
   "source": [
    "<a name=\"1-4-1\"></a>\n",
    "### 1.4.1 Sub-volume Sampling\n",
    "Fill in the function below takes in:\n",
    "- a 4D image (shape: \\[240, 240, 155, 4\\])\n",
    "- its 3D label (shape: \\[240, 240, 155\\]) arrays, \n",
    "\n",
    "The function returns:\n",
    " - A randomly generated sub-volume of size \\[160, 160, 16\\]\n",
    " - Its corresponding label in a 1-hot format which has the shape \\[3, 160, 160, 160\\]\n",
    "\n",
    "Additionally: \n",
    "1. Make sure that at most 95% of the returned patch is non-tumor regions. \n",
    "2. Given that our network expects the channels for our images to appear as the first dimension (instead of the last one in our current setting) reorder the dimensions of the image to have the channels appear as the first dimension.\n",
    "3. Reorder the dimensions of the label array to have the first dimension as the classes (instead of the last one in our current setting)\n",
    "4. Reduce the labels array dimension to only include the non-background classes (total of 3 instead of 4)"
   ]
  },
  {
   "cell_type": "markdown",
   "metadata": {},
   "source": [
    "<details>    \n",
    "<summary>\n",
    "    <font size=\"3\" color=\"darkgreen\"><b>Hints</b></font>\n",
    "</summary>\n",
    "<p>\n",
    "<ul>\n",
    "    <li>Check the lecture notebook for a similar example in 1 dimension</li>\n",
    "    <li>To check the ratio of background to the whole sub-volume, the numerator is the number of background labels in the sub-volume.  The last dimension of the label array at index 0 contains the labels to identify whether the voxel is a background (value of 1) or not a a background (value of 0).\n",
    "        </li>\n",
    "    <li>For the denominator of the background ratio, this is the volume of the output (see <code>output_x</code>, <code>output_y</code>, <code>output_z</code> in the function parameters).</li>\n",
    "    <li><a href=\"https://www.tensorflow.org/api_docs/python/tf/keras/utils/to_categorical\">keras.utils.to_categorical(y, num_classes=)</a></li>\n",
    "    <li><a href=\"https://docs.scipy.org/doc/numpy/reference/generated/numpy.moveaxis.html\" > np.moveaxis </a> can help you re-arrange the dimensions of the arrays </li>\n",
    "    <li> <a href=\"https://docs.scipy.org/doc/numpy-1.15.1/reference/generated/numpy.random.randint.html\">np.random.randint</a> for random sampling</li>\n",
    "    <li> When taking a subset of the label <code>'y'</code> that excludes the background class, remember which dimension contains the <code>'num_classes'</code> channel after re-ordering the axes. </li>\n",
    "</ul>\n",
    "</p>"
   ]
  },
  {
   "cell_type": "code",
   "execution_count": 4,
   "metadata": {
    "ExecuteTime": {
     "end_time": "2020-03-08T01:29:46.136073Z",
     "start_time": "2020-03-08T01:29:46.123072Z"
    },
    "colab": {},
    "colab_type": "code",
    "id": "AXKV1epOSuUl"
   },
   "outputs": [],
   "source": [
    "# UNQ_C1 (UNIQUE CELL IDENTIFIER, DO NOT EDIT)\n",
    "def get_sub_volume(image, label, \n",
    "                   orig_x = 240, orig_y = 240, orig_z = 155, \n",
    "                   output_x = 160, output_y = 160, output_z = 16,\n",
    "                   num_classes = 4, max_tries = 1000, \n",
    "                   background_threshold=0.95):\n",
    "    \"\"\"\n",
    "    Extract random sub-volume from original images.\n",
    "\n",
    "    Args:\n",
    "        image (np.array): original image, \n",
    "            of shape (orig_x, orig_y, orig_z, num_channels)\n",
    "        label (np.array): original label. \n",
    "            labels coded using discrete values rather than\n",
    "            a separate dimension, \n",
    "            so this is of shape (orig_x, orig_y, orig_z)\n",
    "        orig_x (int): x_dim of input image\n",
    "        orig_y (int): y_dim of input image\n",
    "        orig_z (int): z_dim of input image\n",
    "        output_x (int): desired x_dim of output\n",
    "        output_y (int): desired y_dim of output\n",
    "        output_z (int): desired z_dim of output\n",
    "        num_classes (int): number of class labels\n",
    "        max_tries (int): maximum trials to do when sampling\n",
    "        background_threshold (float): limit on the fraction \n",
    "            of the sample which can be the background\n",
    "\n",
    "    returns:\n",
    "        X (np.array): sample of original image of dimension \n",
    "            (num_channels, output_x, output_y, output_z)\n",
    "        y (np.array): labels which correspond to X, of dimension \n",
    "            (num_classes, output_x, output_y, output_z)\n",
    "    \"\"\"\n",
    "    # Initialize features and labels with `None`\n",
    "    X = None\n",
    "    y = None\n",
    "\n",
    "    ### START CODE HERE (REPLACE INSTANCES OF 'None' with your code) ###\n",
    "    \n",
    "    tries = 0\n",
    "    \n",
    "    while tries < max_tries:\n",
    "        # randomly sample sub-volume by sampling the corner voxel\n",
    "        # hint: make sure to leave enough room for the output dimensions!\n",
    "        start_x = np.random.randint(orig_x - output_x + 1)\n",
    "        start_y = np.random.randint(orig_y - output_y + 1)\n",
    "        start_z = np.random.randint(orig_z - output_z + 1)\n",
    "\n",
    "        # extract relevant area of label\n",
    "        y = label[start_x: start_x + output_x,\n",
    "                  start_y: start_y + output_y,\n",
    "                  start_z: start_z + output_z]\n",
    "\n",
    "        # One-hot encode the categories.\n",
    "        # This adds a 4th dimension, 'num_classes'\n",
    "        # (output_x, output_y, output_z, num_classes)\n",
    "        y = keras.utils.to_categorical(y, num_classes=num_classes)\n",
    "\n",
    "        # compute the background ratio\n",
    "        bgrd_ratio = np.sum(y[:, :, :, 0])/(output_x * output_y * output_z)\n",
    "\n",
    "        # increment tries counter\n",
    "        tries += 1\n",
    "\n",
    "        # if background ratio is below the desired threshold,\n",
    "        # use that sub-volume.\n",
    "        # otherwise continue the loop and try another random sub-volume\n",
    "        if bgrd_ratio < background_threshold:\n",
    "\n",
    "            # make copy of the sub-volume\n",
    "            X = np.copy(image[start_x: start_x + output_x,\n",
    "                              start_y: start_y + output_y,\n",
    "                              start_z: start_z + output_z, :])\n",
    "            \n",
    "            # change dimension of X\n",
    "            # from (x_dim, y_dim, z_dim, num_channels)\n",
    "            # to (num_channels, x_dim, y_dim, z_dim)\n",
    "            X = np.moveaxis(X, -1, 0)\n",
    "\n",
    "            # change dimension of y\n",
    "            # from (x_dim, y_dim, z_dim, num_classes)\n",
    "            # to (num_classes, x_dim, y_dim, z_dim)\n",
    "            y = np.moveaxis(y, -1, 0)\n",
    "\n",
    "            ### END CODE HERE ###\n",
    "            \n",
    "            # take a subset of y that excludes the background class\n",
    "            # in the 'num_classes' dimension\n",
    "            y = y[1:, :, :, :]\n",
    "    \n",
    "            return X, y\n",
    "\n",
    "    # if we've tried max_tries number of samples\n",
    "    # Give up in order to avoid looping forever.\n",
    "    print(f\"Tried {tries} times to find a sub-volume. Giving up...\")"
   ]
  },
  {
   "cell_type": "markdown",
   "metadata": {},
   "source": [
    "### Test Case:"
   ]
  },
  {
   "cell_type": "code",
   "execution_count": 5,
   "metadata": {
    "ExecuteTime": {
     "end_time": "2020-03-08T01:29:46.367069Z",
     "start_time": "2020-03-08T01:29:46.224070Z"
    },
    "colab": {
     "base_uri": "https://localhost:8080/",
     "height": 1000
    },
    "colab_type": "code",
    "id": "FfL0EzHrYs4A",
    "outputId": "30916a33-23dc-4800-9847-549cf4102efa"
   },
   "outputs": [
    {
     "name": "stdout",
     "output_type": "stream",
     "text": [
      "image:\n",
      "z = 0\n",
      "[[0. 0. 0. 0.]\n",
      " [0. 0. 0. 0.]\n",
      " [0. 0. 0. 0.]\n",
      " [0. 0. 0. 0.]]\n",
      "z = 1\n",
      "[[0. 0. 0. 0.]\n",
      " [0. 1. 2. 3.]\n",
      " [0. 2. 4. 6.]\n",
      " [0. 3. 6. 9.]]\n",
      "z = 2\n",
      "[[ 0.  0.  0.  0.]\n",
      " [ 0.  2.  4.  6.]\n",
      " [ 0.  4.  8. 12.]\n",
      " [ 0.  6. 12. 18.]]\n",
      "\n",
      "\n",
      "label:\n",
      "z = 0\n",
      "[[0. 0. 0. 0.]\n",
      " [0. 0. 0. 0.]\n",
      " [0. 0. 0. 0.]\n",
      " [0. 0. 0. 0.]]\n",
      "z = 1\n",
      "[[1. 1. 1. 1.]\n",
      " [1. 1. 1. 1.]\n",
      " [1. 1. 1. 1.]\n",
      " [1. 1. 1. 1.]]\n",
      "z = 2\n",
      "[[2. 2. 2. 2.]\n",
      " [2. 2. 2. 2.]\n",
      " [2. 2. 2. 2.]\n",
      " [2. 2. 2. 2.]]\n"
     ]
    }
   ],
   "source": [
    "np.random.seed(3)\n",
    "\n",
    "image = np.zeros((4, 4, 3, 1))\n",
    "label = np.zeros((4, 4, 3))\n",
    "for i in range(4):\n",
    "    for j in range(4):\n",
    "        for k in range(3):\n",
    "            image[i, j, k, 0] = i*j*k\n",
    "            label[i, j, k] = k\n",
    "\n",
    "print(\"image:\")\n",
    "for k in range(3):\n",
    "    print(f\"z = {k}\")\n",
    "    print(image[:, :, k, 0])\n",
    "print(\"\\n\")\n",
    "print(\"label:\")\n",
    "for k in range(3):\n",
    "    print(f\"z = {k}\")\n",
    "    print(label[:, :, k])"
   ]
  },
  {
   "cell_type": "markdown",
   "metadata": {},
   "source": [
    "#### Test: Extracting (2, 2, 2) sub-volume"
   ]
  },
  {
   "cell_type": "code",
   "execution_count": 6,
   "metadata": {
    "ExecuteTime": {
     "end_time": "2020-03-08T01:29:46.456070Z",
     "start_time": "2020-03-08T01:29:46.368070Z"
    }
   },
   "outputs": [
    {
     "name": "stdout",
     "output_type": "stream",
     "text": [
      "Sampled Image:\n",
      "z = 0\n",
      "[[0. 2.]\n",
      " [0. 3.]]\n",
      "z = 1\n",
      "[[0. 4.]\n",
      " [0. 6.]]\n"
     ]
    }
   ],
   "source": [
    "sample_image, sample_label = get_sub_volume(image, \n",
    "                                            label,\n",
    "                                            orig_x=4, \n",
    "                                            orig_y=4, \n",
    "                                            orig_z=3,\n",
    "                                            output_x=2, \n",
    "                                            output_y=2, \n",
    "                                            output_z=2,\n",
    "                                            num_classes = 3)\n",
    "\n",
    "print(\"Sampled Image:\")\n",
    "for k in range(2):\n",
    "    print(\"z = \" + str(k))\n",
    "    print(sample_image[0, :, :, k])"
   ]
  },
  {
   "cell_type": "markdown",
   "metadata": {},
   "source": [
    "#### Expected output:\n",
    "\n",
    "```Python\n",
    "Sampled Image:\n",
    "z = 0\n",
    "[[0. 2.]\n",
    " [0. 3.]]\n",
    "z = 1\n",
    "[[0. 4.]\n",
    " [0. 6.]]\n",
    "```"
   ]
  },
  {
   "cell_type": "code",
   "execution_count": 7,
   "metadata": {
    "ExecuteTime": {
     "end_time": "2020-03-08T01:29:46.583069Z",
     "start_time": "2020-03-08T01:29:46.457069Z"
    }
   },
   "outputs": [
    {
     "name": "stdout",
     "output_type": "stream",
     "text": [
      "Sampled Label:\n",
      "class = 0\n",
      "z = 0\n",
      "[[1. 1.]\n",
      " [1. 1.]]\n",
      "z = 1\n",
      "[[0. 0.]\n",
      " [0. 0.]]\n",
      "class = 1\n",
      "z = 0\n",
      "[[0. 0.]\n",
      " [0. 0.]]\n",
      "z = 1\n",
      "[[1. 1.]\n",
      " [1. 1.]]\n"
     ]
    }
   ],
   "source": [
    "print(\"Sampled Label:\")\n",
    "for c in range(2):\n",
    "    print(\"class = \" + str(c))\n",
    "    for k in range(2):\n",
    "        print(\"z = \" + str(k))\n",
    "        print(sample_label[c, :, :, k])"
   ]
  },
  {
   "cell_type": "markdown",
   "metadata": {},
   "source": [
    "#### Expected output:\n",
    "\n",
    "```Python\n",
    "Sampled Label:\n",
    "class = 0\n",
    "z = 0\n",
    "[[1. 1.]\n",
    " [1. 1.]]\n",
    "z = 1\n",
    "[[0. 0.]\n",
    " [0. 0.]]\n",
    "class = 1\n",
    "z = 0\n",
    "[[0. 0.]\n",
    " [0. 0.]]\n",
    "z = 1\n",
    "[[1. 1.]\n",
    " [1. 1.]]\n",
    "```"
   ]
  },
  {
   "cell_type": "markdown",
   "metadata": {
    "colab_type": "text",
    "id": "uXWxfMmXW0ct"
   },
   "source": [
    "You can run the following cell to look at a candidate patch and ensure that the function works correctly. We'll look at the enhancing tumor part of the label."
   ]
  },
  {
   "cell_type": "code",
   "execution_count": 8,
   "metadata": {
    "ExecuteTime": {
     "end_time": "2020-03-08T01:29:49.157586Z",
     "start_time": "2020-03-08T01:29:47.726586Z"
    },
    "colab": {
     "base_uri": "https://localhost:8080/",
     "height": 306
    },
    "colab_type": "code",
    "id": "otA9p2lRW0cu",
    "outputId": "e0888053-f1ca-4afd-e946-2416446d423e"
   },
   "outputs": [
    {
     "data": {
      "image/png": "[encoded data removed]",
      "text/plain": [
       "<Figure size 720x360 with 2 Axes>"
      ]
     },
     "metadata": {},
     "output_type": "display_data"
    }
   ],
   "source": [
    "image, label = load_case(DATA_DIR + \"imagesTr/BRATS_001.nii.gz\", DATA_DIR + \"labelsTr/BRATS_001.nii.gz\")\n",
    "X, y = get_sub_volume(image, label)\n",
    "# enhancing tumor is channel 2 in the class label\n",
    "# you can change indexer for y to look at different classes\n",
    "util.visualize_patch(X[0, :, :, :], y[2])"
   ]
  },
  {
   "cell_type": "markdown",
   "metadata": {
    "colab_type": "text",
    "id": "QEjatQCQW0cy"
   },
   "source": [
    "<a name=\"1-4-2\"></a>\n",
    "### 1.4.2 Standardization\n",
    "\n",
    "Next, fill in the following function that given a patch (sub-volume), standardizes the values across each channel and each Z plane to have a mean of zero and standard deviation of 1. "
   ]
  },
  {
   "cell_type": "markdown",
   "metadata": {},
   "source": [
    "<details>    \n",
    "<summary>\n",
    "    <font size=\"3\" color=\"darkgreen\"><b>Hints</b></font>\n",
    "</summary>\n",
    "<p>\n",
    "<ul>\n",
    "    <li> Check that the standard deviation is not zero before dividing by it.\n",
    "</ul>\n",
    "</p>"
   ]
  },
  {
   "cell_type": "code",
   "execution_count": 9,
   "metadata": {
    "ExecuteTime": {
     "end_time": "2020-03-08T01:29:49.164587Z",
     "start_time": "2020-03-08T01:29:49.159584Z"
    },
    "colab": {},
    "colab_type": "code",
    "id": "kNht6sVLW0c0"
   },
   "outputs": [],
   "source": [
    "# UNQ_C2 (UNIQUE CELL IDENTIFIER, DO NOT EDIT)\n",
    "def standardize(image):\n",
    "    \"\"\"\n",
    "    Standardize mean and standard deviation \n",
    "        of each channel and z_dimension.\n",
    "\n",
    "    Args:\n",
    "        image (np.array): input image, \n",
    "            shape (num_channels, dim_x, dim_y, dim_z)\n",
    "\n",
    "    Returns:\n",
    "        standardized_image (np.array): standardized version of input image\n",
    "    \"\"\"\n",
    "    \n",
    "    ### START CODE HERE (REPLACE INSTANCES OF 'None' with your code) ###\n",
    "    \n",
    "    # initialize to array of zeros, with same shape as the image\n",
    "    standardized_image = np.zeros((image.shape[0],\n",
    "                                   image.shape[1],\n",
    "                                   image.shape[2],\n",
    "                                   image.shape[3]))\n",
    "\n",
    "    # iterate over channels\n",
    "    for c in range(image.shape[0]):\n",
    "        # iterate over the `z` dimension\n",
    "        for z in range(image.shape[3]):\n",
    "            # get a slice of the image \n",
    "            # at channel c and z-th dimension `z`\n",
    "            image_slice = image[c,:,:,z]\n",
    "\n",
    "            # subtract the mean from image_slice\n",
    "            centered = image_slice - np.mean(image_slice)\n",
    "\n",
    "            centered_scaled = centered/np.std(centered)\n",
    "\n",
    "            # update  the slice of standardized image\n",
    "            # with the scaled centered and scaled image\n",
    "            standardized_image[c, :, :, z] = centered_scaled\n",
    "\n",
    "    ### END CODE HERE ###\n",
    "\n",
    "    return standardized_image"
   ]
  },
  {
   "cell_type": "markdown",
   "metadata": {
    "colab_type": "text",
    "id": "_b3XeEYtW0c4"
   },
   "source": [
    "And to sanity check, let's look at the output of our function:"
   ]
  },
  {
   "cell_type": "code",
   "execution_count": 10,
   "metadata": {
    "ExecuteTime": {
     "end_time": "2020-03-08T01:29:51.702267Z",
     "start_time": "2020-03-08T01:29:51.670269Z"
    },
    "colab": {
     "base_uri": "https://localhost:8080/",
     "height": 51
    },
    "colab_type": "code",
    "id": "xt1DAVhRW0c5",
    "outputId": "e5dee9cc-5183-4ede-88b1-5cb0ccb7a26b"
   },
   "outputs": [
    {
     "name": "stdout",
     "output_type": "stream",
     "text": [
      "standard deviation for a slice should be 1.0\n",
      "stddv for X_norm[0, :, :, 0]: 1.00\n"
     ]
    }
   ],
   "source": [
    "X_norm = standardize(X)\n",
    "print(\"standard deviation for a slice should be 1.0\")\n",
    "print(f\"stddv for X_norm[0, :, :, 0]: {X_norm[0,:,:,0].std():.2f}\")"
   ]
  },
  {
   "cell_type": "markdown",
   "metadata": {
    "colab_type": "text",
    "id": "D_Q1xXkXkr3D"
   },
   "source": [
    "Let's visualize our patch again just to make sure (it won't look different since the `imshow` function we use to visualize automatically normalizes the pixels when displaying in black and white)."
   ]
  },
  {
   "cell_type": "code",
   "execution_count": 11,
   "metadata": {
    "ExecuteTime": {
     "end_time": "2020-03-08T01:29:53.531889Z",
     "start_time": "2020-03-08T01:29:53.340902Z"
    },
    "colab": {
     "base_uri": "https://localhost:8080/",
     "height": 306
    },
    "colab_type": "code",
    "id": "XcMiq-3FOYHe",
    "outputId": "b910aa87-4499-473d-9779-42b30a7a40bc"
   },
   "outputs": [
    {
     "data": {
      "image/png": "[encoded data removed]",
      "text/plain": [
       "<Figure size 720x360 with 2 Axes>"
      ]
     },
     "metadata": {},
     "output_type": "display_data"
    }
   ],
   "source": [
    "util.visualize_patch(X_norm[0, :, :, :], y[2])"
   ]
  },
  {
   "cell_type": "markdown",
   "metadata": {
    "colab_type": "text",
    "id": "PnYAP0SQK7NL"
   },
   "source": [
    "<a name=\"2\"></a>\n",
    "# 2 Model: 3D U-Net\n",
    "Now let's build our model. In this assignment we will be building a [3D U-net](https://arxiv.org/abs/1606.06650). \n",
    "- This architecture will take advantage of the volumetric shape of MR images and is one of the best performing models for this task. \n",
    "- Feel free to familiarize yourself with the architecture by reading [this paper](https://arxiv.org/abs/1606.06650).\n",
    "\n",
    "<img src=\"https://lmb.informatik.uni-freiburg.de/people/ronneber/u-net/u-net-architecture.png\" width=\"50%\">"
   ]
  },
  {
   "cell_type": "markdown",
   "metadata": {
    "colab_type": "text",
    "id": "P0tVtbIshBXq"
   },
   "source": [
    "<a name=\"3\"></a>\n",
    "# 3 Metrics"
   ]
  },
  {
   "cell_type": "markdown",
   "metadata": {
    "colab_type": "text",
    "id": "XOWndz7GecSh"
   },
   "source": [
    "<a name=\"3-1\"></a>\n",
    "## 3.1 Dice Similarity Coefficient\n",
    "\n",
    "Aside from the architecture, one of the most important elements of any deep learning method is the choice of our loss function. \n",
    "\n",
    "A natural choice that you may be familiar with is the cross-entropy loss function. \n",
    "- However, this loss function is not ideal for segmentation tasks due to heavy class imbalance (there are typically not many positive regions). \n",
    "\n",
    "A much more common loss for segmentation tasks is the Dice similarity coefficient, which is a measure of how well two contours overlap. \n",
    "- The Dice index ranges from 0 (complete mismatch) \n",
    "- To 1 (perfect match).\n",
    "\n",
    "In general, for two sets $A$ and $B$, the Dice similarity coefficient is defined as: \n",
    "$$\\text{DSC}(A, B) = \\frac{2 \\times |A \\cap B|}{|A| + |B|}.$$\n",
    "\n",
    "Here we can interpret $A$ and $B$ as sets of voxels, $A$ being the predicted tumor region and $B$ being the ground truth. \n",
    "\n",
    "Our model will map each voxel to 0 or 1\n",
    "- 0 means it is a background voxel\n",
    "- 1 means it is part of the segmented region.\n",
    "\n",
    "In the dice coefficient, the variables in the formula are:\n",
    "- $x$ : the input image\n",
    "- $f(x)$ : the model output (prediction)\n",
    "- $y$ : the label (actual ground truth)\n",
    "\n",
    "The dice coefficient \"DSC\" is:\n",
    "\n",
    "$$\\text{DSC}(f, x, y) = \\frac{2 \\times \\sum_{i, j} f(x)_{ij} \\times y_{ij} + \\epsilon}{\\sum_{i,j} f(x)_{ij} + \\sum_{i, j} y_{ij} + \\epsilon}$$\n",
    "\n",
    "- $\\epsilon$ is a small number that is added to avoid division by zero\n",
    "\n",
    "<img src=\"https://www.researchgate.net/publication/328671987/figure/fig4/AS:688210103529478@1541093483784/Calculation-of-the-Dice-similarity-coefficient-The-deformed-contour-of-the-liver-from.ppm\" width=\"30%\">\n",
    "\n",
    "[Image Source](https://www.researchgate.net/figure/Calculation-of-the-Dice-similarity-coefficient-The-deformed-contour-of-the-liver-from_fig4_328671987)\n",
    "\n",
    "Implement the dice coefficient for a single output class below.\n",
    "\n",
    "- Please use the [Keras.sum(x,axis=)](https://www.tensorflow.org/api_docs/python/tf/keras/backend/sum) function to compute the numerator and denominator of the dice coefficient."
   ]
  },
  {
   "cell_type": "code",
   "execution_count": 12,
   "metadata": {
    "ExecuteTime": {
     "end_time": "2020-03-08T01:29:58.009018Z",
     "start_time": "2020-03-08T01:29:58.004988Z"
    },
    "colab": {},
    "colab_type": "code",
    "id": "DRZUNCaM_9x7"
   },
   "outputs": [],
   "source": [
    "# UNQ_C3 (UNIQUE CELL IDENTIFIER, DO NOT EDIT)\n",
    "def single_class_dice_coefficient(y_true, y_pred, axis=(0, 1, 2), \n",
    "                                  epsilon=0.00001):\n",
    "    \"\"\"\n",
    "    Compute dice coefficient for single class.\n",
    "\n",
    "    Args:\n",
    "        y_true (Tensorflow tensor): tensor of ground truth values for single class.\n",
    "                                    shape: (x_dim, y_dim, z_dim)\n",
    "        y_pred (Tensorflow tensor): tensor of predictions for single class.\n",
    "                                    shape: (x_dim, y_dim, z_dim)\n",
    "        axis (tuple): spatial axes to sum over when computing numerator and\n",
    "                      denominator of dice coefficient.\n",
    "                      Hint: pass this as the 'axis' argument to the K.sum function.\n",
    "        epsilon (float): small constant added to numerator and denominator to\n",
    "                        avoid divide by 0 errors.\n",
    "    Returns:\n",
    "        dice_coefficient (float): computed value of dice coefficient.     \n",
    "    \"\"\"\n",
    "\n",
    "    ### START CODE HERE (REPLACE INSTANCES OF 'None' with your code) ###\n",
    "    \n",
    "    dice_numerator = 2*K.sum(y_true * y_pred, axis=axis) + epsilon\n",
    "    dice_denominator = K.sum(y_true, axis=axis) + K.sum(y_pred, axis=axis) + epsilon\n",
    "    dice_coefficient = dice_numerator / dice_denominator\n",
    "    \n",
    "    ### END CODE HERE ###\n",
    "\n",
    "    return dice_coefficient"
   ]
  },
  {
   "cell_type": "code",
   "execution_count": 13,
   "metadata": {
    "ExecuteTime": {
     "end_time": "2020-03-08T01:30:00.603988Z",
     "start_time": "2020-03-08T01:29:59.198014Z"
    },
    "colab": {
     "base_uri": "https://localhost:8080/",
     "height": 323
    },
    "colab_type": "code",
    "id": "XOugSRoF_8jN",
    "outputId": "a0a1b9ff-aa7b-46eb-96a3-7ee443ea9831"
   },
   "outputs": [
    {
     "name": "stdout",
     "output_type": "stream",
     "text": [
      "Test Case #1\n",
      "pred:\n",
      "[[1. 0.]\n",
      " [0. 1.]]\n",
      "label:\n",
      "[[1. 1.]\n",
      " [0. 0.]]\n",
      "dice coefficient: 0.6000\n",
      "\n",
      "\n",
      "Test Case #2\n",
      "pred:\n",
      "[[1. 0.]\n",
      " [0. 1.]]\n",
      "label:\n",
      "[[1. 1.]\n",
      " [0. 1.]]\n",
      "dice_coefficient: 0.8333\n"
     ]
    }
   ],
   "source": [
    "# TEST CASES\n",
    "sess = K.get_session()\n",
    "#sess = tf.compat.v1.Session()\n",
    "with sess.as_default() as sess:\n",
    "    pred = np.expand_dims(np.eye(2), -1)\n",
    "    label = np.expand_dims(np.array([[1.0, 1.0], [0.0, 0.0]]), -1)\n",
    "\n",
    "    print(\"Test Case #1\")\n",
    "    print(\"pred:\")\n",
    "    print(pred[:, :, 0])\n",
    "    print(\"label:\")\n",
    "    print(label[:, :, 0])\n",
    "\n",
    "    # choosing a large epsilon to help check for implementation errors\n",
    "    dc = single_class_dice_coefficient(pred, label,epsilon=1)\n",
    "    print(f\"dice coefficient: {dc.eval():.4f}\")\n",
    "\n",
    "    print(\"\\n\")\n",
    "\n",
    "    print(\"Test Case #2\")\n",
    "    pred = np.expand_dims(np.eye(2), -1)\n",
    "    label = np.expand_dims(np.array([[1.0, 1.0], [0.0, 1.0]]), -1)\n",
    "\n",
    "    print(\"pred:\")\n",
    "    print(pred[:, :, 0])\n",
    "    print(\"label:\")\n",
    "    print(label[:, :, 0])\n",
    "\n",
    "    # choosing a large epsilon to help check for implementation errors\n",
    "    dc = single_class_dice_coefficient(pred, label,epsilon=1)\n",
    "    print(f\"dice_coefficient: {dc.eval():.4f}\")"
   ]
  },
  {
   "cell_type": "markdown",
   "metadata": {},
   "source": [
    "##### Expected output\n",
    "\n",
    "If you get a different result, please check that you implemented the equation completely.\n",
    "```Python\n",
    "Test Case #1\n",
    "pred:\n",
    "[[1. 0.]\n",
    " [0. 1.]]\n",
    "label:\n",
    "[[1. 1.]\n",
    " [0. 0.]]\n",
    "dice coefficient: 0.6000\n",
    "\n",
    "\n",
    "Test Case #2\n",
    "pred:\n",
    "[[1. 0.]\n",
    " [0. 1.]]\n",
    "label:\n",
    "[[1. 1.]\n",
    " [0. 1.]]\n",
    "dice_coefficient: 0.8333\n",
    "```"
   ]
  },
  {
   "cell_type": "markdown",
   "metadata": {
    "colab_type": "text",
    "id": "1s3uVww0C01C"
   },
   "source": [
    "### Dice Coefficient for Multiple classes\n",
    "Now that we have the single class case, we can think about how to approach the multi class context. \n",
    "- Remember that for this task, we want segmentations for each of the 3 classes of abnormality (edema, enhancing tumor, non-enhancing tumor). \n",
    "- This will give us 3 different dice coefficients (one for each abnormality class). \n",
    "- To combine these, we can just take the average. We can write that the overall dice coefficient is: \n",
    "\n",
    "$$DC(f, x, y) = \\frac{1}{3} \\left ( DC_{1}(f, x, y) + DC_{2}(f, x, y) + DC_{3}(f, x, y) \\right )$$\n",
    "\n",
    "- $DC_{1}$, $DC_{2}$ and $DC_{3}$ are edema, enhancing tumor, and non-enhancing tumor dice coefficients.\n",
    "\n",
    "For any number of classes, the equation becomes:  \n",
    "$$DC(f, x, y) = \\frac{1}{N} \\sum_{c=1}^{C} \\left ( DC_{c}(f, x, y) \\right )$$\n",
    "\n",
    "In this case, with three categories, $C = 3$\n",
    "\n",
    "Implement the mean dice coefficient below. This should not be very different from your singe-class implementation.\n",
    "\n",
    "\n",
    "Please use the [K.mean](https://keras.io/backend/#mean) function to take the average of the three classes.  \n",
    "- Apply the mean to the ratio that you calculate in the last line of code that you'll implement."
   ]
  },
  {
   "cell_type": "code",
   "execution_count": 14,
   "metadata": {
    "ExecuteTime": {
     "end_time": "2020-03-08T01:30:02.777039Z",
     "start_time": "2020-03-08T01:30:02.774035Z"
    },
    "colab": {},
    "colab_type": "code",
    "id": "r0G9ND3_W0dC"
   },
   "outputs": [],
   "source": [
    "# UNQ_C4 (UNIQUE CELL IDENTIFIER, DO NOT EDIT)\n",
    "def dice_coefficient(y_true, y_pred, axis=(1, 2, 3), \n",
    "                     epsilon=0.00001):\n",
    "    \"\"\"\n",
    "    Compute mean dice coefficient over all abnormality classes.\n",
    "\n",
    "    Args:\n",
    "        y_true (Tensorflow tensor): tensor of ground truth values for all classes.\n",
    "                                    shape: (num_classes, x_dim, y_dim, z_dim)\n",
    "        y_pred (Tensorflow tensor): tensor of predictions for all classes.\n",
    "                                    shape: (num_classes, x_dim, y_dim, z_dim)\n",
    "        axis (tuple): spatial axes to sum over when computing numerator and\n",
    "                      denominator of dice coefficient.\n",
    "                      Hint: pass this as the 'axis' argument to the K.sum\n",
    "                            and K.mean functions.\n",
    "        epsilon (float): small constant add to numerator and denominator to\n",
    "                        avoid divide by 0 errors.\n",
    "    Returns:\n",
    "        dice_coefficient (float): computed value of dice coefficient.     \n",
    "    \"\"\"\n",
    "\n",
    "    ### START CODE HERE (REPLACE INSTANCES OF 'None' with your code) ###\n",
    "    \n",
    "    dice_numerator = 2*K.sum(y_true * y_pred, axis=axis) + epsilon\n",
    "    dice_denominator = K.sum(y_true, axis=axis) + K.sum(y_pred, axis=axis) + epsilon\n",
    "    dice_coefficient = K.mean(dice_numerator / dice_denominator)\n",
    "    \n",
    "    ### END CODE HERE ###\n",
    "\n",
    "    return dice_coefficient"
   ]
  },
  {
   "cell_type": "code",
   "execution_count": 15,
   "metadata": {
    "ExecuteTime": {
     "end_time": "2020-03-08T01:30:03.800562Z",
     "start_time": "2020-03-08T01:30:03.627565Z"
    },
    "colab": {
     "base_uri": "https://localhost:8080/",
     "height": 629
    },
    "colab_type": "code",
    "id": "bQi8Trze4jGR",
    "outputId": "d07e46f0-bc8e-4379-dc4d-46576a2911b5"
   },
   "outputs": [
    {
     "name": "stdout",
     "output_type": "stream",
     "text": [
      "Test Case #1\n",
      "pred:\n",
      "[[1. 0.]\n",
      " [0. 1.]]\n",
      "label:\n",
      "[[1. 1.]\n",
      " [0. 0.]]\n",
      "dice coefficient: 0.6000\n",
      "\n",
      "\n",
      "Test Case #2\n",
      "pred:\n",
      "[[1. 0.]\n",
      " [0. 1.]]\n",
      "label:\n",
      "[[1. 1.]\n",
      " [0. 1.]]\n",
      "dice coefficient: 0.8333\n",
      "\n",
      "\n",
      "Test Case #3\n",
      "pred:\n",
      "class = 0\n",
      "[[1. 0.]\n",
      " [0. 1.]]\n",
      "class = 1\n",
      "[[1. 0.]\n",
      " [0. 1.]]\n",
      "label:\n",
      "class = 0\n",
      "[[1. 1.]\n",
      " [0. 0.]]\n",
      "class = 1\n",
      "[[1. 1.]\n",
      " [0. 1.]]\n",
      "dice coefficient: 0.7167\n"
     ]
    }
   ],
   "source": [
    "# TEST CASES\n",
    "sess = K.get_session()\n",
    "with sess.as_default() as sess:\n",
    "    pred = np.expand_dims(np.expand_dims(np.eye(2), 0), -1)\n",
    "    label = np.expand_dims(np.expand_dims(np.array([[1.0, 1.0], [0.0, 0.0]]), 0), -1)\n",
    "\n",
    "    print(\"Test Case #1\")\n",
    "    print(\"pred:\")\n",
    "    print(pred[0, :, :, 0])\n",
    "    print(\"label:\")\n",
    "    print(label[0, :, :, 0])\n",
    "\n",
    "    dc = dice_coefficient(pred, label,epsilon=1)\n",
    "    print(f\"dice coefficient: {dc.eval():.4f}\")\n",
    "\n",
    "    print(\"\\n\")\n",
    "\n",
    "    print(\"Test Case #2\")\n",
    "    pred = np.expand_dims(np.expand_dims(np.eye(2), 0), -1)\n",
    "    label = np.expand_dims(np.expand_dims(np.array([[1.0, 1.0], [0.0, 1.0]]), 0), -1)\n",
    "\n",
    "\n",
    "    print(\"pred:\")\n",
    "    print(pred[0, :, :, 0])\n",
    "    print(\"label:\")\n",
    "    print(label[0, :, :, 0])\n",
    "\n",
    "    dc = dice_coefficient(pred, label,epsilon=1)\n",
    "    print(f\"dice coefficient: {dc.eval():.4f}\")\n",
    "    print(\"\\n\")\n",
    "\n",
    "\n",
    "    print(\"Test Case #3\")\n",
    "    pred = np.zeros((2, 2, 2, 1))\n",
    "    pred[0, :, :, :] = np.expand_dims(np.eye(2), -1)\n",
    "    pred[1, :, :, :] = np.expand_dims(np.eye(2), -1)\n",
    "    \n",
    "    label = np.zeros((2, 2, 2, 1))\n",
    "    label[0, :, :, :] = np.expand_dims(np.array([[1.0, 1.0], [0.0, 0.0]]), -1)\n",
    "    label[1, :, :, :] = np.expand_dims(np.array([[1.0, 1.0], [0.0, 1.0]]), -1)\n",
    "\n",
    "    print(\"pred:\")\n",
    "    print(\"class = 0\")\n",
    "    print(pred[0, :, :, 0])\n",
    "    print(\"class = 1\")\n",
    "    print(pred[1, :, :, 0])\n",
    "    print(\"label:\")\n",
    "    print(\"class = 0\")\n",
    "    print(label[0, :, :, 0])\n",
    "    print(\"class = 1\")\n",
    "    print(label[1, :, :, 0])\n",
    "\n",
    "    dc = dice_coefficient(pred, label,epsilon=1)\n",
    "    print(f\"dice coefficient: {dc.eval():.4f}\")"
   ]
  },
  {
   "cell_type": "markdown",
   "metadata": {},
   "source": [
    "#### Expected output:\n",
    "\n",
    "```Python\n",
    "Test Case #1\n",
    "pred:\n",
    "[[1. 0.]\n",
    " [0. 1.]]\n",
    "label:\n",
    "[[1. 1.]\n",
    " [0. 0.]]\n",
    "dice coefficient: 0.6000\n",
    "\n",
    "\n",
    "Test Case #2\n",
    "pred:\n",
    "[[1. 0.]\n",
    " [0. 1.]]\n",
    "label:\n",
    "[[1. 1.]\n",
    " [0. 1.]]\n",
    "dice coefficient: 0.8333\n",
    "\n",
    "\n",
    "Test Case #3\n",
    "pred:\n",
    "class = 0\n",
    "[[1. 0.]\n",
    " [0. 1.]]\n",
    "class = 1\n",
    "[[1. 0.]\n",
    " [0. 1.]]\n",
    "label:\n",
    "class = 0\n",
    "[[1. 1.]\n",
    " [0. 0.]]\n",
    "class = 1\n",
    "[[1. 1.]\n",
    " [0. 1.]]\n",
    "dice coefficient: 0.7167\n",
    "```"
   ]
  },
  {
   "cell_type": "markdown",
   "metadata": {
    "colab_type": "text",
    "id": "4UFpujr1Mo8m"
   },
   "source": [
    "<a name=\"3-2\"></a>\n",
    "## 3.2 Soft Dice Loss\n",
    "\n",
    "While the Dice Coefficient makes intuitive sense, it is not the best for training. \n",
    "- This is because it takes in discrete values (zeros and ones). \n",
    "- The model outputs *probabilities* that each pixel is, say, a tumor or not, and we want to be able to backpropagate through those outputs. \n",
    "\n",
    "Therefore, we need an analogue of the Dice loss which takes real valued input. This is where the **Soft Dice loss** comes in. The formula is: \n",
    "\n",
    "$$\\mathcal{L}_{Dice}(p, q) = 1 - \\frac{2\\times\\sum_{i, j} p_{ij}q_{ij} + \\epsilon}{\\left(\\sum_{i, j} p_{ij}^2 \\right) + \\left(\\sum_{i, j} q_{ij}^2 \\right) + \\epsilon}$$\n",
    "\n",
    "- $p$ is our predictions\n",
    "- $q$ is the ground truth \n",
    "- In practice each $q_i$ will either be 0 or 1. \n",
    "- $\\epsilon$ is a small number that is added to avoid division by zero\n",
    "\n",
    "The soft Dice loss ranges between \n",
    "- 0: perfectly matching the ground truth distribution $q$\n",
    "- 1: complete mismatch with the ground truth.\n",
    "\n",
    "You can also check that if $p_i$ and $q_i$ are each 0 or 1, then the soft Dice loss is just one minus the dice coefficient.\n",
    "\n",
    "\n",
    "### Multi-Class Soft Dice Loss\n",
    "\n",
    "We've explained the single class case for simplicity, but the multi-class generalization is exactly the same as that of the dice coefficient. \n",
    "- Since you've already implemented the multi-class dice coefficient, we'll have you jump directly to the multi-class soft dice loss.\n",
    "\n",
    "For any number of categories of diseases, the expression becomes:\n",
    "\n",
    "$$\\mathcal{L}_{Dice}(p, q) = 1 - \\frac{1}{N} \\sum_{c=1}^{C} \\frac{2\\times\\sum_{i, j} p_{cij}q_{cij} + \\epsilon}{\\left(\\sum_{i, j} p_{cij}^2 \\right) + \\left(\\sum_{i, j} q_{cij}^2 \\right) + \\epsilon}$$\n",
    "\n",
    "Please implement the soft dice loss below!\n",
    "\n",
    "As before, you will use K.mean()\n",
    "- Apply the average the mean to ratio that you'll calculate in the last line of code that you'll implement."
   ]
  },
  {
   "cell_type": "code",
   "execution_count": 16,
   "metadata": {
    "ExecuteTime": {
     "end_time": "2020-03-08T01:30:07.313338Z",
     "start_time": "2020-03-08T01:30:07.309342Z"
    },
    "colab": {},
    "colab_type": "code",
    "id": "aMR9KO7mHVl5"
   },
   "outputs": [],
   "source": [
    "# UNQ_C5 (UNIQUE CELL IDENTIFIER, DO NOT EDIT)\n",
    "def soft_dice_loss(y_true, y_pred, axis=(1, 2, 3), \n",
    "                   epsilon=0.00001):\n",
    "    \"\"\"\n",
    "    Compute mean soft dice loss over all abnormality classes.\n",
    "\n",
    "    Args:\n",
    "        y_true (Tensorflow tensor): tensor of ground truth values for all classes.\n",
    "                                    shape: (num_classes, x_dim, y_dim, z_dim)\n",
    "        y_pred (Tensorflow tensor): tensor of soft predictions for all classes.\n",
    "                                    shape: (num_classes, x_dim, y_dim, z_dim)\n",
    "        axis (tuple): spatial axes to sum over when computing numerator and\n",
    "                      denominator in formula for dice loss.\n",
    "                      Hint: pass this as the 'axis' argument to the K.sum\n",
    "                            and K.mean functions.\n",
    "        epsilon (float): small constant added to numerator and denominator to\n",
    "                        avoid divide by 0 errors.\n",
    "    Returns:\n",
    "        dice_loss (float): computed value of dice loss.     \n",
    "    \"\"\"\n",
    "\n",
    "    ### START CODE HERE (REPLACE INSTANCES OF 'None' with your code) ###\n",
    "\n",
    "    dice_numerator = 2*K.sum(y_true * y_pred, axis=axis) + epsilon\n",
    "    dice_denominator = K.sum(y_true**2, axis=axis) + K.sum(y_pred**2, axis=axis) + epsilon\n",
    "    dice_loss = 1 - K.mean(dice_numerator / dice_denominator)\n",
    "\n",
    "    ### END CODE HERE ###\n",
    "\n",
    "    return dice_loss"
   ]
  },
  {
   "cell_type": "markdown",
   "metadata": {},
   "source": [
    "#### Test Case 1"
   ]
  },
  {
   "cell_type": "code",
   "execution_count": 17,
   "metadata": {
    "ExecuteTime": {
     "end_time": "2020-03-08T01:30:08.094307Z",
     "start_time": "2020-03-08T01:30:07.895306Z"
    },
    "colab": {
     "base_uri": "https://localhost:8080/",
     "height": 969
    },
    "colab_type": "code",
    "id": "FuUigtIO9QVh",
    "outputId": "d534083d-9b40-40e5-8e9b-f1bcd3a609c2"
   },
   "outputs": [
    {
     "name": "stdout",
     "output_type": "stream",
     "text": [
      "Test Case #1\n",
      "pred:\n",
      "[[1. 0.]\n",
      " [0. 1.]]\n",
      "label:\n",
      "[[1. 1.]\n",
      " [0. 0.]]\n",
      "soft dice loss:0.4000\n"
     ]
    }
   ],
   "source": [
    "# TEST CASES\n",
    "sess = K.get_session()\n",
    "with sess.as_default() as sess:\n",
    "    pred = np.expand_dims(np.expand_dims(np.eye(2), 0), -1)\n",
    "    label = np.expand_dims(np.expand_dims(np.array([[1.0, 1.0], [0.0, 0.0]]), 0), -1)\n",
    "\n",
    "    print(\"Test Case #1\")\n",
    "    print(\"pred:\")\n",
    "    print(pred[0, :, :, 0])\n",
    "    print(\"label:\")\n",
    "    print(label[0, :, :, 0])\n",
    "\n",
    "    dc = soft_dice_loss(pred, label, epsilon=1)\n",
    "    print(f\"soft dice loss:{dc.eval():.4f}\")"
   ]
  },
  {
   "cell_type": "markdown",
   "metadata": {},
   "source": [
    "#### Expected output:\n",
    "\n",
    "```Python\n",
    "Test Case #1\n",
    "pred:\n",
    "[[1. 0.]\n",
    " [0. 1.]]\n",
    "label:\n",
    "[[1. 1.]\n",
    " [0. 0.]]\n",
    "soft dice loss:0.4000\n",
    "```"
   ]
  },
  {
   "cell_type": "markdown",
   "metadata": {},
   "source": [
    "#### Test Case 2"
   ]
  },
  {
   "cell_type": "code",
   "execution_count": 18,
   "metadata": {},
   "outputs": [
    {
     "name": "stdout",
     "output_type": "stream",
     "text": [
      "Test Case #2\n",
      "pred:\n",
      "[[0.5 0. ]\n",
      " [0.  0.5]]\n",
      "label:\n",
      "[[1. 1.]\n",
      " [0. 0.]]\n",
      "soft dice loss: 0.4286\n"
     ]
    }
   ],
   "source": [
    "sess = K.get_session()\n",
    "with sess.as_default() as sess:\n",
    "    pred = np.expand_dims(np.expand_dims(np.eye(2), 0), -1)\n",
    "    label = np.expand_dims(np.expand_dims(np.array([[1.0, 1.0], [0.0, 0.0]]), 0), -1)\n",
    "    \n",
    "    print(\"Test Case #2\")\n",
    "    pred = np.expand_dims(np.expand_dims(0.5*np.eye(2), 0), -1)\n",
    "    print(\"pred:\")\n",
    "    print(pred[0, :, :, 0])\n",
    "    print(\"label:\")\n",
    "    print(label[0, :, :, 0])\n",
    "    dc = soft_dice_loss(pred, label, epsilon=1)\n",
    "    print(f\"soft dice loss: {dc.eval():.4f}\")"
   ]
  },
  {
   "cell_type": "markdown",
   "metadata": {},
   "source": [
    "#### Expected output:\n",
    "\n",
    "```Python\n",
    "Test Case #2\n",
    "pred:\n",
    "[[0.5 0. ]\n",
    " [0.  0.5]]\n",
    "label:\n",
    "[[1. 1.]\n",
    " [0. 0.]]\n",
    "soft dice loss: 0.4286\n",
    "```"
   ]
  },
  {
   "cell_type": "markdown",
   "metadata": {},
   "source": [
    "#### Test Case 3"
   ]
  },
  {
   "cell_type": "code",
   "execution_count": 19,
   "metadata": {},
   "outputs": [
    {
     "name": "stdout",
     "output_type": "stream",
     "text": [
      "Test Case #3\n",
      "pred:\n",
      "[[1. 0.]\n",
      " [0. 1.]]\n",
      "label:\n",
      "[[1. 1.]\n",
      " [0. 1.]]\n",
      "soft dice loss: 0.1667\n"
     ]
    }
   ],
   "source": [
    "sess = K.get_session()\n",
    "with sess.as_default() as sess:\n",
    "    pred = np.expand_dims(np.expand_dims(np.eye(2), 0), -1)\n",
    "    label = np.expand_dims(np.expand_dims(np.array([[1.0, 1.0], [0.0, 0.0]]), 0), -1)\n",
    "    \n",
    "    print(\"Test Case #3\")\n",
    "    pred = np.expand_dims(np.expand_dims(np.eye(2), 0), -1)\n",
    "    label = np.expand_dims(np.expand_dims(np.array([[1.0, 1.0], [0.0, 1.0]]), 0), -1)\n",
    "\n",
    "    print(\"pred:\")\n",
    "    print(pred[0, :, :, 0])\n",
    "    print(\"label:\")\n",
    "    print(label[0, :, :, 0])\n",
    "\n",
    "    dc = soft_dice_loss(pred, label, epsilon=1)\n",
    "    print(f\"soft dice loss: {dc.eval():.4f}\")"
   ]
  },
  {
   "cell_type": "markdown",
   "metadata": {},
   "source": [
    "#### Expected output:\n",
    "\n",
    "```Python\n",
    "Test Case #3\n",
    "pred:\n",
    "[[1. 0.]\n",
    " [0. 1.]]\n",
    "label:\n",
    "[[1. 1.]\n",
    " [0. 1.]]\n",
    "soft dice loss: 0.1667\n",
    "```"
   ]
  },
  {
   "cell_type": "markdown",
   "metadata": {},
   "source": [
    "#### Test Case 4"
   ]
  },
  {
   "cell_type": "code",
   "execution_count": 20,
   "metadata": {},
   "outputs": [
    {
     "name": "stdout",
     "output_type": "stream",
     "text": [
      "Test Case #4\n",
      "pred:\n",
      "[[1.  0.8]\n",
      " [0.  1. ]]\n",
      "label:\n",
      "[[1. 1.]\n",
      " [0. 1.]]\n",
      "soft dice loss: 0.0060\n"
     ]
    }
   ],
   "source": [
    "sess = K.get_session()\n",
    "with sess.as_default() as sess:\n",
    "    pred = np.expand_dims(np.expand_dims(np.eye(2), 0), -1)\n",
    "    label = np.expand_dims(np.expand_dims(np.array([[1.0, 1.0], [0.0, 0.0]]), 0), -1)\n",
    "\n",
    "    print(\"Test Case #4\")\n",
    "    pred = np.expand_dims(np.expand_dims(np.eye(2), 0), -1)\n",
    "    pred[0, 0, 1, 0] = 0.8\n",
    "    label = np.expand_dims(np.expand_dims(np.array([[1.0, 1.0], [0.0, 1.0]]), 0), -1)\n",
    "\n",
    "    print(\"pred:\")\n",
    "    print(pred[0, :, :, 0])\n",
    "    print(\"label:\")\n",
    "    print(label[0, :, :, 0])\n",
    "\n",
    "    dc = soft_dice_loss(pred, label, epsilon=1)\n",
    "    print(f\"soft dice loss: {dc.eval():.4f}\")"
   ]
  },
  {
   "cell_type": "markdown",
   "metadata": {},
   "source": [
    "#### Expected output:\n",
    "\n",
    "```Python\n",
    "Test Case #4\n",
    "pred:\n",
    "[[1.  0.8]\n",
    " [0.  1. ]]\n",
    "label:\n",
    "[[1. 1.]\n",
    " [0. 1.]]\n",
    "soft dice loss: 0.0060\n",
    "```"
   ]
  },
  {
   "cell_type": "markdown",
   "metadata": {},
   "source": [
    "#### Test Case 5"
   ]
  },
  {
   "cell_type": "code",
   "execution_count": 21,
   "metadata": {},
   "outputs": [
    {
     "name": "stdout",
     "output_type": "stream",
     "text": [
      "Test Case #5\n",
      "pred:\n",
      "class = 0\n",
      "[[0.5 0. ]\n",
      " [0.  0.5]]\n",
      "class = 1\n",
      "[[1.  0.8]\n",
      " [0.  1. ]]\n",
      "label:\n",
      "class = 0\n",
      "[[1. 1.]\n",
      " [0. 0.]]\n",
      "class = 1\n",
      "[[1. 1.]\n",
      " [0. 1.]]\n",
      "soft dice loss: 0.2173\n"
     ]
    }
   ],
   "source": [
    "sess = K.get_session()\n",
    "with sess.as_default() as sess:\n",
    "    pred = np.expand_dims(np.expand_dims(np.eye(2), 0), -1)\n",
    "    label = np.expand_dims(np.expand_dims(np.array([[1.0, 1.0], [0.0, 0.0]]), 0), -1)\n",
    "    \n",
    "    print(\"Test Case #5\")\n",
    "    pred = np.zeros((2, 2, 2, 1))\n",
    "    pred[0, :, :, :] = np.expand_dims(0.5*np.eye(2), -1)\n",
    "    pred[1, :, :, :] = np.expand_dims(np.eye(2), -1)\n",
    "    pred[1, 0, 1, 0] = 0.8\n",
    "\n",
    "    label = np.zeros((2, 2, 2, 1))\n",
    "    label[0, :, :, :] = np.expand_dims(np.array([[1.0, 1.0], [0.0, 0.0]]), -1)\n",
    "    label[1, :, :, :] = np.expand_dims(np.array([[1.0, 1.0], [0.0, 1.0]]), -1)\n",
    "\n",
    "    print(\"pred:\")\n",
    "    print(\"class = 0\")\n",
    "    print(pred[0, :, :, 0])\n",
    "    print(\"class = 1\")\n",
    "    print(pred[1, :, :, 0])\n",
    "    print(\"label:\")\n",
    "    print(\"class = 0\")\n",
    "    print(label[0, :, :, 0])\n",
    "    print(\"class = 1\")\n",
    "    print(label[1, :, :, 0])\n",
    "\n",
    "    dc = soft_dice_loss(pred, label, epsilon=1)\n",
    "    print(f\"soft dice loss: {dc.eval():.4f}\")"
   ]
  },
  {
   "cell_type": "markdown",
   "metadata": {},
   "source": [
    "#### Expected output:\n",
    "\n",
    "```Python\n",
    "Test Case #5\n",
    "pred:\n",
    "class = 0\n",
    "[[0.5 0. ]\n",
    " [0.  0.5]]\n",
    "class = 1\n",
    "[[1.  0.8]\n",
    " [0.  1. ]]\n",
    "label:\n",
    "class = 0\n",
    "[[1. 1.]\n",
    " [0. 0.]]\n",
    "class = 1\n",
    "[[1. 1.]\n",
    " [0. 1.]]\n",
    "soft dice loss: 0.2173\n",
    "```"
   ]
  },
  {
   "cell_type": "markdown",
   "metadata": {},
   "source": [
    "#### Test Case 6"
   ]
  },
  {
   "cell_type": "code",
   "execution_count": 22,
   "metadata": {},
   "outputs": [
    {
     "name": "stdout",
     "output_type": "stream",
     "text": [
      "Test case #6\n",
      "soft dice loss 0.4375\n"
     ]
    }
   ],
   "source": [
    "# Test case 6\n",
    "pred = np.array([\n",
    "                    [\n",
    "                        [ \n",
    "                            [1.0, 1.0], [0.0, 0.0]\n",
    "                        ],\n",
    "                        [\n",
    "                            [1.0, 0.0], [0.0, 1.0]\n",
    "                        ]\n",
    "                    ],\n",
    "                    [\n",
    "                        [ \n",
    "                            [1.0, 1.0], [0.0, 0.0]\n",
    "                        ],\n",
    "                        [\n",
    "                            [1.0, 0.0], [0.0, 1.0]\n",
    "                        ]\n",
    "                    ],\n",
    "                  ])\n",
    "label = np.array([\n",
    "                    [\n",
    "                        [ \n",
    "                            [1.0, 0.0], [1.0, 0.0]\n",
    "                        ],\n",
    "                        [\n",
    "                            [1.0, 0.0], [0.0, 0.0]\n",
    "                        ]\n",
    "                    ],\n",
    "                    [\n",
    "                        [ \n",
    "                            [0.0, 0.0], [0.0, 0.0]\n",
    "                        ],\n",
    "                        [\n",
    "                            [1.0, 0.0], [0.0, 0.0]\n",
    "                        ]\n",
    "                    ]\n",
    "                  ])\n",
    "\n",
    "sess = K.get_session()\n",
    "print(\"Test case #6\")\n",
    "with sess.as_default() as sess:\n",
    "    dc = soft_dice_loss(pred, label, epsilon=1)\n",
    "    print(f\"soft dice loss\",dc.eval())"
   ]
  },
  {
   "cell_type": "markdown",
   "metadata": {},
   "source": [
    "#### Expected Output\n",
    "```Python\n",
    "Test case #6\n",
    "soft dice loss: 0.4375\n",
    "```\n",
    "\n",
    "Note, if you don't have a scalar, and have an array with more than one value, please check your implementation!"
   ]
  },
  {
   "cell_type": "markdown",
   "metadata": {
    "colab_type": "text",
    "id": "6HXdsoV9OVEV"
   },
   "source": [
    "<a name=\"4\"></a>\n",
    "# 4 Create and Train the model\n",
    "\n",
    "Once you've finished implementing the soft dice loss, we can create the model! \n",
    "\n",
    "We'll use the `unet_model_3d` function in `utils` which we implemented for you.\n",
    "- This creates the model architecture and compiles the model with the specified loss functions and metrics. \n",
    "- Check out function `util.unet_model_3d(loss_function)` in the `util.py` file."
   ]
  },
  {
   "cell_type": "code",
   "execution_count": 23,
   "metadata": {},
   "outputs": [
    {
     "name": "stdout",
     "output_type": "stream",
     "text": [
      "WARNING:tensorflow:From /opt/conda/lib/python3.6/site-packages/tensorflow_core/python/ops/resource_variable_ops.py:1630: calling BaseResourceVariable.__init__ (from tensorflow.python.ops.resource_variable_ops) with constraint is deprecated and will be removed in a future version.\n",
      "Instructions for updating:\n",
      "If using Keras pass *_constraint arguments to layers.\n"
     ]
    }
   ],
   "source": [
    "model = util.unet_model_3d(loss_function=soft_dice_loss, metrics=[dice_coefficient])"
   ]
  },
  {
   "cell_type": "markdown",
   "metadata": {
    "colab_type": "text",
    "id": "lQ-JvVotW0dS"
   },
   "source": [
    "<a name=\"4-1\"></a>\n",
    "## 4.1 Training on a Large Dataset\n",
    "\n",
    "In order to facilitate the training on the large dataset:\n",
    "- We have pre-processed the entire dataset into patches and stored the patches in the [`h5py`](http://docs.h5py.org/en/stable/) format. \n",
    "- We also wrote a custom Keras [`Sequence`](https://www.tensorflow.org/api_docs/python/tf/keras/utils/Sequence) class which can be used as a `Generator` for the keras model to train on large datasets. \n",
    "- Feel free to look at the `VolumeDataGenerator` class in `util.py` to learn about how such a generator can be coded.\n",
    "\n",
    "Note: [Here](https://www.geeksforgeeks.org/keras-fit-and-keras-fit_generator/) you can check the difference between `fit` and `fit_generator` functions.\n",
    "\n",
    "To get a flavor of the training on the larger dataset, you can run the following cell to train the model on a small subset of the dataset (85 patches). You should see the loss going down and the dice coefficient going up. \n",
    "\n",
    "Running `model.fit()` on the Coursera workspace may cause the kernel to die.\n",
    "- Soon, we will load a pre-trained version of this model, so that you don't need to train the model on this workspace."
   ]
  },
  {
   "cell_type": "markdown",
   "metadata": {
    "colab": {},
    "colab_type": "code",
    "id": "bcBeF80jf54b"
   },
   "source": [
    "```Python\n",
    "# Run this on your local machine only\n",
    "# May cause the kernel to die if running in the Coursera platform\n",
    "\n",
    "base_dir = HOME_DIR + \"processed/\"\n",
    "\n",
    "with open(base_dir + \"config.json\") as json_file:\n",
    "    config = json.load(json_file)\n",
    "\n",
    "# Get generators for training and validation sets\n",
    "train_generator = util.VolumeDataGenerator(config[\"train\"], base_dir + \"train/\", batch_size=3, dim=(160, 160, 16), verbose=0)\n",
    "valid_generator = util.VolumeDataGenerator(config[\"valid\"], base_dir + \"valid/\", batch_size=3, dim=(160, 160, 16), verbose=0)\n",
    "\n",
    "steps_per_epoch = 20\n",
    "n_epochs=10\n",
    "validation_steps = 20\n",
    "\n",
    "model.fit_generator(generator=train_generator,\n",
    "        steps_per_epoch=steps_per_epoch,\n",
    "        epochs=n_epochs,\n",
    "        use_multiprocessing=True,\n",
    "        validation_data=valid_generator,\n",
    "        validation_steps=validation_steps)\n",
    "\n",
    "# run this cell if you to save the weights of your trained model in cell section 4.1\n",
    "#model.save_weights(base_dir + 'my_model_pretrained.hdf5')\n",
    "```"
   ]
  },
  {
   "cell_type": "markdown",
   "metadata": {
    "colab_type": "text",
    "id": "-Oq1qG5UW0dY"
   },
   "source": [
    "<a name=\"4-2\"></a>\n",
    "## 4.2 Loading a Pre-Trained Model\n",
    "As in assignment 1, instead of having the model train for longer, we'll give you access to a pretrained version. We'll use this to extract predictions and measure performance."
   ]
  },
  {
   "cell_type": "code",
   "execution_count": 24,
   "metadata": {},
   "outputs": [],
   "source": [
    "# run this cell if you didn't run the training cell in section 4.1\n",
    "base_dir = HOME_DIR + \"processed/\"\n",
    "with open(base_dir + \"config.json\") as json_file:\n",
    "    config = json.load(json_file)\n",
    "# Get generators for training and validation sets\n",
    "train_generator = util.VolumeDataGenerator(config[\"train\"], base_dir + \"train/\", batch_size=3, dim=(160, 160, 16), verbose=0)\n",
    "valid_generator = util.VolumeDataGenerator(config[\"valid\"], base_dir + \"valid/\", batch_size=3, dim=(160, 160, 16), verbose=0)"
   ]
  },
  {
   "cell_type": "code",
   "execution_count": 25,
   "metadata": {
    "colab": {},
    "colab_type": "code",
    "id": "iYJ3cdSGeR5l"
   },
   "outputs": [],
   "source": [
    "model.load_weights(HOME_DIR + \"model_pretrained.hdf5\")"
   ]
  },
  {
   "cell_type": "code",
   "execution_count": 26,
   "metadata": {
    "scrolled": true
   },
   "outputs": [
    {
     "name": "stdout",
     "output_type": "stream",
     "text": [
      "Model: \"model_1\"\n",
      "__________________________________________________________________________________________________\n",
      "Layer (type)                    Output Shape         Param #     Connected to                     \n",
      "==================================================================================================\n",
      "input_1 (InputLayer)            (None, 4, 160, 160,  0                                            \n",
      "__________________________________________________________________________________________________\n",
      "conv3d_1 (Conv3D)               (None, 32, 160, 160, 3488        input_1[0][0]                    \n",
      "__________________________________________________________________________________________________\n",
      "activation_1 (Activation)       (None, 32, 160, 160, 0           conv3d_1[0][0]                   \n",
      "__________________________________________________________________________________________________\n",
      "conv3d_2 (Conv3D)               (None, 64, 160, 160, 55360       activation_1[0][0]               \n",
      "__________________________________________________________________________________________________\n",
      "activation_2 (Activation)       (None, 64, 160, 160, 0           conv3d_2[0][0]                   \n",
      "__________________________________________________________________________________________________\n",
      "max_pooling3d_1 (MaxPooling3D)  (None, 64, 80, 80, 8 0           activation_2[0][0]               \n",
      "__________________________________________________________________________________________________\n",
      "conv3d_3 (Conv3D)               (None, 64, 80, 80, 8 110656      max_pooling3d_1[0][0]            \n",
      "__________________________________________________________________________________________________\n",
      "activation_3 (Activation)       (None, 64, 80, 80, 8 0           conv3d_3[0][0]                   \n",
      "__________________________________________________________________________________________________\n",
      "conv3d_4 (Conv3D)               (None, 128, 80, 80,  221312      activation_3[0][0]               \n",
      "__________________________________________________________________________________________________\n",
      "activation_4 (Activation)       (None, 128, 80, 80,  0           conv3d_4[0][0]                   \n",
      "__________________________________________________________________________________________________\n",
      "max_pooling3d_2 (MaxPooling3D)  (None, 128, 40, 40,  0           activation_4[0][0]               \n",
      "__________________________________________________________________________________________________\n",
      "conv3d_5 (Conv3D)               (None, 128, 40, 40,  442496      max_pooling3d_2[0][0]            \n",
      "__________________________________________________________________________________________________\n",
      "activation_5 (Activation)       (None, 128, 40, 40,  0           conv3d_5[0][0]                   \n",
      "__________________________________________________________________________________________________\n",
      "conv3d_6 (Conv3D)               (None, 256, 40, 40,  884992      activation_5[0][0]               \n",
      "__________________________________________________________________________________________________\n",
      "activation_6 (Activation)       (None, 256, 40, 40,  0           conv3d_6[0][0]                   \n",
      "__________________________________________________________________________________________________\n",
      "max_pooling3d_3 (MaxPooling3D)  (None, 256, 20, 20,  0           activation_6[0][0]               \n",
      "__________________________________________________________________________________________________\n",
      "conv3d_7 (Conv3D)               (None, 256, 20, 20,  1769728     max_pooling3d_3[0][0]            \n",
      "__________________________________________________________________________________________________\n",
      "activation_7 (Activation)       (None, 256, 20, 20,  0           conv3d_7[0][0]                   \n",
      "__________________________________________________________________________________________________\n",
      "conv3d_8 (Conv3D)               (None, 512, 20, 20,  3539456     activation_7[0][0]               \n",
      "__________________________________________________________________________________________________\n",
      "activation_8 (Activation)       (None, 512, 20, 20,  0           conv3d_8[0][0]                   \n",
      "__________________________________________________________________________________________________\n",
      "up_sampling3d_1 (UpSampling3D)  (None, 512, 40, 40,  0           activation_8[0][0]               \n",
      "__________________________________________________________________________________________________\n",
      "concatenate_1 (Concatenate)     (None, 768, 40, 40,  0           up_sampling3d_1[0][0]            \n",
      "                                                                 activation_6[0][0]               \n",
      "__________________________________________________________________________________________________\n",
      "conv3d_9 (Conv3D)               (None, 256, 40, 40,  5308672     concatenate_1[0][0]              \n",
      "__________________________________________________________________________________________________\n",
      "activation_9 (Activation)       (None, 256, 40, 40,  0           conv3d_9[0][0]                   \n",
      "__________________________________________________________________________________________________\n",
      "conv3d_10 (Conv3D)              (None, 256, 40, 40,  1769728     activation_9[0][0]               \n",
      "__________________________________________________________________________________________________\n",
      "activation_10 (Activation)      (None, 256, 40, 40,  0           conv3d_10[0][0]                  \n",
      "__________________________________________________________________________________________________\n",
      "up_sampling3d_2 (UpSampling3D)  (None, 256, 80, 80,  0           activation_10[0][0]              \n",
      "__________________________________________________________________________________________________\n",
      "concatenate_2 (Concatenate)     (None, 384, 80, 80,  0           up_sampling3d_2[0][0]            \n",
      "                                                                 activation_4[0][0]               \n",
      "__________________________________________________________________________________________________\n",
      "conv3d_11 (Conv3D)              (None, 128, 80, 80,  1327232     concatenate_2[0][0]              \n",
      "__________________________________________________________________________________________________\n",
      "activation_11 (Activation)      (None, 128, 80, 80,  0           conv3d_11[0][0]                  \n",
      "__________________________________________________________________________________________________\n",
      "conv3d_12 (Conv3D)              (None, 128, 80, 80,  442496      activation_11[0][0]              \n",
      "__________________________________________________________________________________________________\n",
      "activation_12 (Activation)      (None, 128, 80, 80,  0           conv3d_12[0][0]                  \n",
      "__________________________________________________________________________________________________\n",
      "up_sampling3d_3 (UpSampling3D)  (None, 128, 160, 160 0           activation_12[0][0]              \n",
      "__________________________________________________________________________________________________\n",
      "concatenate_3 (Concatenate)     (None, 192, 160, 160 0           up_sampling3d_3[0][0]            \n",
      "                                                                 activation_2[0][0]               \n",
      "__________________________________________________________________________________________________\n",
      "conv3d_13 (Conv3D)              (None, 64, 160, 160, 331840      concatenate_3[0][0]              \n",
      "__________________________________________________________________________________________________\n",
      "activation_13 (Activation)      (None, 64, 160, 160, 0           conv3d_13[0][0]                  \n",
      "__________________________________________________________________________________________________\n",
      "conv3d_14 (Conv3D)              (None, 64, 160, 160, 110656      activation_13[0][0]              \n",
      "__________________________________________________________________________________________________\n",
      "activation_14 (Activation)      (None, 64, 160, 160, 0           conv3d_14[0][0]                  \n",
      "__________________________________________________________________________________________________\n",
      "conv3d_15 (Conv3D)              (None, 3, 160, 160,  195         activation_14[0][0]              \n",
      "__________________________________________________________________________________________________\n",
      "activation_15 (Activation)      (None, 3, 160, 160,  0           conv3d_15[0][0]                  \n",
      "==================================================================================================\n",
      "Total params: 16,318,307\n",
      "Trainable params: 16,318,307\n",
      "Non-trainable params: 0\n",
      "__________________________________________________________________________________________________\n"
     ]
    }
   ],
   "source": [
    "model.summary()"
   ]
  },
  {
   "cell_type": "markdown",
   "metadata": {
    "colab_type": "text",
    "id": "22JSeC5yOnty"
   },
   "source": [
    "<a name=\"5\"></a>\n",
    "# 5 Evaluation\n",
    "\n",
    "Now that we have a trained model, we'll learn to extract its predictions and evaluate its performance on scans from our validation set."
   ]
  },
  {
   "cell_type": "markdown",
   "metadata": {
    "colab_type": "text",
    "id": "DjK9oMJ3iEeW"
   },
   "source": [
    "<a name=\"5-1\"></a>\n",
    "## 5.1 Overall Performance"
   ]
  },
  {
   "cell_type": "markdown",
   "metadata": {
    "colab_type": "text",
    "id": "akLh2sTIhkTj"
   },
   "source": [
    "First let's measure the overall performance on the validation set. \n",
    "- We can do this by calling the keras [evaluate_generator](https://keras.io/models/model/#evaluate_generator) function and passing in the validation generator, created in section 4.1. \n",
    "\n",
    "#### Using the validation set for testing\n",
    "- Note: since we didn't do cross validation tuning on the final model, it's okay to use the validation set.\n",
    "- For real life implementations, however, you would want to do cross validation as usual to choose hyperparamters and then use a hold out test set to assess performance\n",
    "\n",
    "Python Code for measuring the overall performance on the validation set:\n",
    "\n",
    "```python\n",
    "val_loss, val_dice = model.evaluate_generator(valid_generator)\n",
    "\n",
    "print(f\"validation soft dice loss: {val_loss:.4f}\")\n",
    "print(f\"validation dice coefficient: {val_dice:.4f}\")\n",
    "```\n",
    "\n",
    "#### Expected output:\n",
    "\n",
    "```Python\n",
    "validation soft dice loss: 0.4742\n",
    "validation dice coefficient: 0.5152\n",
    "```\n",
    "\n",
    "**NOTE:** Do not run the code shown above on the Coursera platform as it will exceed the platform's memory limitations. However, you can run the code shown above locally on your machine or in Colab to practice measuring the overall performance on the validation set.\n",
    "\n",
    "\n",
    "Like we mentioned above, due to memory limitiations on the Coursera platform we won't be runing the above code, however, you should take note of the **expected output** below it. We should note that due to the randomness in choosing sub-volumes, the values for soft dice loss and dice coefficient will be different each time that you run it."
   ]
  },
  {
   "cell_type": "markdown",
   "metadata": {
    "colab_type": "text",
    "id": "JGZ-GLXPiCXH"
   },
   "source": [
    "<a name=\"5-2\"></a>\n",
    "## 5.2 Patch-level predictions\n",
    "\n",
    "When applying the model, we'll want to look at segmentations for individual scans (entire scans, not just the sub-volumes)\n",
    "- This will be a bit complicated because of our sub-volume approach. \n",
    "- First let's keep things simple and extract model predictions for sub-volumes.\n",
    "- We can use the sub-volume which we extracted at the beginning of the assignment."
   ]
  },
  {
   "cell_type": "code",
   "execution_count": 27,
   "metadata": {
    "colab": {
     "base_uri": "https://localhost:8080/",
     "height": 306
    },
    "colab_type": "code",
    "id": "D3Zx9gSiAhEC",
    "outputId": "4fb5d166-2dbe-4cfc-84ce-8ebab9867729"
   },
   "outputs": [
    {
     "data": {
      "image/png": "[encoded data removed]",
      "text/plain": [
       "<Figure size 720x360 with 2 Axes>"
      ]
     },
     "metadata": {},
     "output_type": "display_data"
    }
   ],
   "source": [
    "util.visualize_patch(X_norm[0, :, :, :], y[2])"
   ]
  },
  {
   "cell_type": "markdown",
   "metadata": {
    "colab_type": "text",
    "id": "BRJF6bR9i4n7"
   },
   "source": [
    "#### Add a 'batch' dimension\n",
    "We can extract predictions by calling `model.predict` on the patch. \n",
    "- We'll add an `images_per_batch` dimension, since the `predict` method is written to take in batches. \n",
    "- The dimensions of the input should be `(images_per_batch, num_channels, x_dim, y_dim, z_dim)`.\n",
    "- Use [numpy.expand_dims](https://docs.scipy.org/doc/numpy/reference/generated/numpy.expand_dims.html) to add a new dimension as the zero-th dimension by setting axis=0"
   ]
  },
  {
   "cell_type": "code",
   "execution_count": 28,
   "metadata": {
    "colab": {},
    "colab_type": "code",
    "id": "_GKVqDNbjUIF"
   },
   "outputs": [
    {
     "name": "stdout",
     "output_type": "stream",
     "text": [
      "WARNING:tensorflow:From /opt/conda/lib/python3.6/site-packages/keras/backend/tensorflow_backend.py:422: The name tf.global_variables is deprecated. Please use tf.compat.v1.global_variables instead.\n",
      "\n"
     ]
    }
   ],
   "source": [
    "X_norm_with_batch_dimension = np.expand_dims(X_norm, axis=0)\n",
    "patch_pred = model.predict(X_norm_with_batch_dimension)"
   ]
  },
  {
   "cell_type": "markdown",
   "metadata": {
    "colab_type": "text",
    "id": "c11FN5SJjXxT"
   },
   "source": [
    "#### Convert prediction from probability into a category\n",
    "Currently, each element of `patch_pred` is a number between 0.0 and 1.0.\n",
    "- Each number is the model's confidence that a voxel is part of a given class. \n",
    "- You will convert these to discrete 0 and 1 integers by using a threshold. \n",
    "- We'll use a threshold of 0.5. \n",
    "- In real applications, you would tune this to achieve your required level  of sensitivity or specificity."
   ]
  },
  {
   "cell_type": "code",
   "execution_count": 29,
   "metadata": {
    "colab": {},
    "colab_type": "code",
    "id": "VCsVNiKJBvcC"
   },
   "outputs": [],
   "source": [
    "# set threshold.\n",
    "threshold = 0.5\n",
    "\n",
    "# use threshold to get hard predictions\n",
    "patch_pred[patch_pred > threshold] = 1.0\n",
    "patch_pred[patch_pred <= threshold] = 0.0"
   ]
  },
  {
   "cell_type": "markdown",
   "metadata": {
    "colab_type": "text",
    "id": "AenKy0OGjs-C"
   },
   "source": [
    "Now let's visualize the original patch and ground truth alongside our thresholded predictions."
   ]
  },
  {
   "cell_type": "code",
   "execution_count": 30,
   "metadata": {
    "colab": {
     "base_uri": "https://localhost:8080/",
     "height": 663
    },
    "colab_type": "code",
    "id": "vf6N-lzLjov4",
    "outputId": "071f06c1-a440-4267-99bf-cf261c82efff"
   },
   "outputs": [
    {
     "name": "stdout",
     "output_type": "stream",
     "text": [
      "Patch and ground truth\n"
     ]
    },
    {
     "data": {
      "image/png": "[encoded data removed]",
      "text/plain": [
       "<Figure size 720x360 with 2 Axes>"
      ]
     },
     "metadata": {},
     "output_type": "display_data"
    },
    {
     "name": "stdout",
     "output_type": "stream",
     "text": [
      "Patch and prediction\n"
     ]
    },
    {
     "data": {
      "image/png": "[encoded data removed]",
      "text/plain": [
       "<Figure size 720x360 with 2 Axes>"
      ]
     },
     "metadata": {},
     "output_type": "display_data"
    }
   ],
   "source": [
    "print(\"Patch and ground truth\")\n",
    "util.visualize_patch(X_norm[0, :, :, :], y[2])\n",
    "plt.show()\n",
    "print(\"Patch and prediction\")\n",
    "util.visualize_patch(X_norm[0, :, :, :], patch_pred[0, 2, :, :, :])\n",
    "plt.show()"
   ]
  },
  {
   "cell_type": "markdown",
   "metadata": {
    "colab_type": "text",
    "id": "_JAEdpA3llCJ"
   },
   "source": [
    "#### Sensitivity and Specificity\n",
    "\n",
    "The model is covering some of the relevant areas, but it's definitely not perfect. \n",
    "- To quantify its performance, we can use per-pixel sensitivity and specificity. \n",
    "\n",
    "Recall that in terms of the true positives, true negatives, false positives, and false negatives, \n",
    "\n",
    "$$\\text{sensitivity} = \\frac{\\text{true positives}}{\\text{true positives} + \\text{false negatives}}$$\n",
    "\n",
    "$$\\text{specificity} = \\frac{\\text{true negatives}}{\\text{true negatives} + \\text{false positives}}$$\n",
    "\n",
    "Below let's write a function to compute the sensitivity and specificity per output class."
   ]
  },
  {
   "cell_type": "markdown",
   "metadata": {},
   "source": [
    "\n",
    "<details>    \n",
    "<summary>\n",
    "    <font size=\"3\" color=\"darkgreen\"><b>Hints</b></font>\n",
    "</summary>\n",
    "<p>\n",
    "<ul>\n",
    "    <li>Recall that a true positive occurs when the class prediction is equal to 1, and the class label is also equal to 1</li>\n",
    "    <li>Use <a href=\"https://docs.scipy.org/doc/numpy/reference/generated/numpy.sum.html\" > numpy.sum() </a> </li>\n",
    "\n",
    "</ul>\n",
    "</p>"
   ]
  },
  {
   "cell_type": "code",
   "execution_count": 31,
   "metadata": {
    "colab": {},
    "colab_type": "code",
    "id": "B2ajAYw0bQ50"
   },
   "outputs": [],
   "source": [
    "# UNQ_C6 (UNIQUE CELL IDENTIFIER, DO NOT EDIT)\n",
    "def compute_class_sens_spec(pred, label, class_num):\n",
    "    \"\"\"\n",
    "    Compute sensitivity and specificity for a particular example\n",
    "    for a given class.\n",
    "\n",
    "    Args:\n",
    "        pred (np.array): binary arrary of predictions, shape is\n",
    "                         (num classes, height, width, depth).\n",
    "        label (np.array): binary array of labels, shape is\n",
    "                          (num classes, height, width, depth).\n",
    "        class_num (int): number between 0 - (num_classes -1) which says\n",
    "                         which prediction class to compute statistics\n",
    "                         for.\n",
    "\n",
    "    Returns:\n",
    "        sensitivity (float): precision for given class_num.\n",
    "        specificity (float): recall for given class_num\n",
    "    \"\"\"\n",
    "\n",
    "    # extract sub-array for specified class\n",
    "    class_pred = pred[class_num]\n",
    "    class_label = label[class_num]\n",
    "\n",
    "    ### START CODE HERE (REPLACE INSTANCES OF 'None' with your code) ###\n",
    "    \n",
    "    # compute:\n",
    "    \n",
    "    # true positives\n",
    "    tp = np.sum( (class_pred == 1) * (class_label == 1))\n",
    "\n",
    "    # true negatives\n",
    "    tn = np.sum( (class_pred == 0) * (class_label == 0))\n",
    "    \n",
    "    #false positives\n",
    "    fp = np.sum( (class_pred == 1) * (class_label == 0))\n",
    "    \n",
    "    # false negatives\n",
    "    fn =  np.sum( (class_pred == 0) * (class_label == 1))\n",
    "\n",
    "    # compute sensitivity and specificity\n",
    "    sensitivity = tp / (tp + fn)\n",
    "    specificity = tn / (tn + fp)\n",
    "\n",
    "    ### END CODE HERE ###\n",
    "\n",
    "    return sensitivity, specificity"
   ]
  },
  {
   "cell_type": "code",
   "execution_count": 32,
   "metadata": {
    "colab": {
     "base_uri": "https://localhost:8080/",
     "height": 357
    },
    "colab_type": "code",
    "id": "mcTtD1JdYnGj",
    "outputId": "b3d1b2f4-224e-4855-cd48-d53dc7a9fb04"
   },
   "outputs": [
    {
     "name": "stdout",
     "output_type": "stream",
     "text": [
      "Test Case #1\n",
      "pred:\n",
      "[[1. 0.]\n",
      " [0. 1.]]\n",
      "label:\n",
      "[[1. 1.]\n",
      " [0. 0.]]\n",
      "sensitivity: 0.5000\n",
      "specificity: 0.5000\n"
     ]
    }
   ],
   "source": [
    "# TEST CASES\n",
    "pred = np.expand_dims(np.expand_dims(np.eye(2), 0), -1)\n",
    "label = np.expand_dims(np.expand_dims(np.array([[1.0, 1.0], [0.0, 0.0]]), 0), -1)\n",
    "\n",
    "print(\"Test Case #1\")\n",
    "print(\"pred:\")\n",
    "print(pred[0, :, :, 0])\n",
    "print(\"label:\")\n",
    "print(label[0, :, :, 0])\n",
    "\n",
    "sensitivity, specificity = compute_class_sens_spec(pred, label, 0)\n",
    "print(f\"sensitivity: {sensitivity:.4f}\")\n",
    "print(f\"specificity: {specificity:.4f}\")"
   ]
  },
  {
   "cell_type": "markdown",
   "metadata": {},
   "source": [
    "#### Expected output:\n",
    "\n",
    "```Python\n",
    "Test Case #1\n",
    "pred:\n",
    "[[1. 0.]\n",
    " [0. 1.]]\n",
    "label:\n",
    "[[1. 1.]\n",
    " [0. 0.]]\n",
    "sensitivity: 0.5000\n",
    "specificity: 0.5000\n",
    "```"
   ]
  },
  {
   "cell_type": "code",
   "execution_count": 33,
   "metadata": {},
   "outputs": [
    {
     "name": "stdout",
     "output_type": "stream",
     "text": [
      "Test Case #2\n",
      "pred:\n",
      "[[1. 0.]\n",
      " [0. 1.]]\n",
      "label:\n",
      "[[1. 1.]\n",
      " [0. 1.]]\n",
      "sensitivity: 0.6667\n",
      "specificity: 1.0000\n"
     ]
    }
   ],
   "source": [
    "print(\"Test Case #2\")\n",
    "\n",
    "pred = np.expand_dims(np.expand_dims(np.eye(2), 0), -1)\n",
    "label = np.expand_dims(np.expand_dims(np.array([[1.0, 1.0], [0.0, 1.0]]), 0), -1)\n",
    "\n",
    "print(\"pred:\")\n",
    "print(pred[0, :, :, 0])\n",
    "print(\"label:\")\n",
    "print(label[0, :, :, 0])\n",
    "\n",
    "sensitivity, specificity = compute_class_sens_spec(pred, label, 0)\n",
    "print(f\"sensitivity: {sensitivity:.4f}\")\n",
    "print(f\"specificity: {specificity:.4f}\")"
   ]
  },
  {
   "cell_type": "markdown",
   "metadata": {},
   "source": [
    "#### Expected output:\n",
    "\n",
    "```Python\n",
    "Test Case #2\n",
    "pred:\n",
    "[[1. 0.]\n",
    " [0. 1.]]\n",
    "label:\n",
    "[[1. 1.]\n",
    " [0. 1.]]\n",
    "sensitivity: 0.6667\n",
    "specificity: 1.0000\n",
    "```"
   ]
  },
  {
   "cell_type": "code",
   "execution_count": 34,
   "metadata": {},
   "outputs": [
    {
     "name": "stdout",
     "output_type": "stream",
     "text": [
      "Test Case #3\n"
     ]
    },
    {
     "data": {
      "text/html": [
       "<div>\n",
       "<style scoped>\n",
       "    .dataframe tbody tr th:only-of-type {\n",
       "        vertical-align: middle;\n",
       "    }\n",
       "\n",
       "    .dataframe tbody tr th {\n",
       "        vertical-align: top;\n",
       "    }\n",
       "\n",
       "    .dataframe thead th {\n",
       "        text-align: right;\n",
       "    }\n",
       "</style>\n",
       "<table border=\"1\" class=\"dataframe\">\n",
       "  <thead>\n",
       "    <tr style=\"text-align: right;\">\n",
       "      <th></th>\n",
       "      <th>y_test</th>\n",
       "      <th>preds_test</th>\n",
       "      <th>category</th>\n",
       "    </tr>\n",
       "  </thead>\n",
       "  <tbody>\n",
       "    <tr>\n",
       "      <th>0</th>\n",
       "      <td>1</td>\n",
       "      <td>1</td>\n",
       "      <td>TP</td>\n",
       "    </tr>\n",
       "    <tr>\n",
       "      <th>1</th>\n",
       "      <td>1</td>\n",
       "      <td>1</td>\n",
       "      <td>TP</td>\n",
       "    </tr>\n",
       "    <tr>\n",
       "      <th>2</th>\n",
       "      <td>0</td>\n",
       "      <td>0</td>\n",
       "      <td>TN</td>\n",
       "    </tr>\n",
       "    <tr>\n",
       "      <th>3</th>\n",
       "      <td>0</td>\n",
       "      <td>0</td>\n",
       "      <td>TN</td>\n",
       "    </tr>\n",
       "    <tr>\n",
       "      <th>4</th>\n",
       "      <td>0</td>\n",
       "      <td>0</td>\n",
       "      <td>TN</td>\n",
       "    </tr>\n",
       "    <tr>\n",
       "      <th>5</th>\n",
       "      <td>0</td>\n",
       "      <td>1</td>\n",
       "      <td>FP</td>\n",
       "    </tr>\n",
       "    <tr>\n",
       "      <th>6</th>\n",
       "      <td>0</td>\n",
       "      <td>1</td>\n",
       "      <td>FP</td>\n",
       "    </tr>\n",
       "    <tr>\n",
       "      <th>7</th>\n",
       "      <td>0</td>\n",
       "      <td>1</td>\n",
       "      <td>FP</td>\n",
       "    </tr>\n",
       "    <tr>\n",
       "      <th>8</th>\n",
       "      <td>0</td>\n",
       "      <td>1</td>\n",
       "      <td>FP</td>\n",
       "    </tr>\n",
       "    <tr>\n",
       "      <th>9</th>\n",
       "      <td>1</td>\n",
       "      <td>0</td>\n",
       "      <td>FN</td>\n",
       "    </tr>\n",
       "    <tr>\n",
       "      <th>10</th>\n",
       "      <td>1</td>\n",
       "      <td>0</td>\n",
       "      <td>FN</td>\n",
       "    </tr>\n",
       "    <tr>\n",
       "      <th>11</th>\n",
       "      <td>1</td>\n",
       "      <td>0</td>\n",
       "      <td>FN</td>\n",
       "    </tr>\n",
       "    <tr>\n",
       "      <th>12</th>\n",
       "      <td>1</td>\n",
       "      <td>0</td>\n",
       "      <td>FN</td>\n",
       "    </tr>\n",
       "    <tr>\n",
       "      <th>13</th>\n",
       "      <td>1</td>\n",
       "      <td>0</td>\n",
       "      <td>FN</td>\n",
       "    </tr>\n",
       "  </tbody>\n",
       "</table>\n",
       "</div>"
      ],
      "text/plain": [
       "    y_test  preds_test category\n",
       "0        1           1       TP\n",
       "1        1           1       TP\n",
       "2        0           0       TN\n",
       "3        0           0       TN\n",
       "4        0           0       TN\n",
       "5        0           1       FP\n",
       "6        0           1       FP\n",
       "7        0           1       FP\n",
       "8        0           1       FP\n",
       "9        1           0       FN\n",
       "10       1           0       FN\n",
       "11       1           0       FN\n",
       "12       1           0       FN\n",
       "13       1           0       FN"
      ]
     },
     "metadata": {},
     "output_type": "display_data"
    },
    {
     "name": "stdout",
     "output_type": "stream",
     "text": [
      "sensitivity: 0.2857\n",
      "specificity: 0.4286\n"
     ]
    }
   ],
   "source": [
    "# Note: we must explicity import 'display' in order for the autograder to compile the submitted code\n",
    "# Even though we could use this function without importing it, keep this import in order to allow the grader to work\n",
    "from IPython.display import display\n",
    "print(\"Test Case #3\")\n",
    "\n",
    "df = pd.DataFrame({'y_test': [1,1,0,0,0,0,0,0,0,1,1,1,1,1],\n",
    "                   'preds_test': [1,1,0,0,0,1,1,1,1,0,0,0,0,0],\n",
    "                   'category': ['TP','TP','TN','TN','TN','FP','FP','FP','FP','FN','FN','FN','FN','FN']\n",
    "                  })\n",
    "\n",
    "display(df)\n",
    "pred = np.array( [df['preds_test']])\n",
    "label = np.array( [df['y_test']])\n",
    "\n",
    "sensitivity, specificity = compute_class_sens_spec(pred, label, 0)\n",
    "print(f\"sensitivity: {sensitivity:.4f}\")\n",
    "print(f\"specificity: {specificity:.4f}\")"
   ]
  },
  {
   "cell_type": "markdown",
   "metadata": {},
   "source": [
    "#### Expected Output\n",
    "\n",
    "```Python\n",
    "Test case #3\n",
    "...\n",
    "sensitivity: 0.2857\n",
    "specificity: 0.4286\n",
    "```"
   ]
  },
  {
   "cell_type": "markdown",
   "metadata": {
    "colab_type": "text",
    "id": "sjDw9Fg9c21a"
   },
   "source": [
    "#### Sensitivity and Specificity for the patch prediction\n",
    "\n",
    "Next let's compute the sensitivity and specificity on that patch for expanding tumors. "
   ]
  },
  {
   "cell_type": "code",
   "execution_count": 35,
   "metadata": {
    "colab": {
     "base_uri": "https://localhost:8080/",
     "height": 51
    },
    "colab_type": "code",
    "id": "Kp4SJDWmc0L5",
    "outputId": "f8735867-131d-4d25-d84d-e008e9a68d5f"
   },
   "outputs": [
    {
     "name": "stdout",
     "output_type": "stream",
     "text": [
      "Sensitivity: 0.7891\n",
      "Specificity: 0.9960\n"
     ]
    }
   ],
   "source": [
    "sensitivity, specificity = compute_class_sens_spec(patch_pred[0], y, 2)\n",
    "\n",
    "print(f\"Sensitivity: {sensitivity:.4f}\")\n",
    "print(f\"Specificity: {specificity:.4f}\")"
   ]
  },
  {
   "cell_type": "markdown",
   "metadata": {},
   "source": [
    "#### Expected output:\n",
    "\n",
    "```Python\n",
    "Sensitivity: 0.7891\n",
    "Specificity: 0.9960\n",
    "```"
   ]
  },
  {
   "cell_type": "markdown",
   "metadata": {
    "colab_type": "text",
    "id": "MdSeKsZEntHG"
   },
   "source": [
    "We can also display the sensitivity and specificity for each class."
   ]
  },
  {
   "cell_type": "code",
   "execution_count": 36,
   "metadata": {
    "colab": {},
    "colab_type": "code",
    "id": "0LuVZHUKnp4t"
   },
   "outputs": [],
   "source": [
    "def get_sens_spec_df(pred, label):\n",
    "    patch_metrics = pd.DataFrame(\n",
    "        columns = ['Edema', \n",
    "                   'Non-Enhancing Tumor', \n",
    "                   'Enhancing Tumor'], \n",
    "        index = ['Sensitivity',\n",
    "                 'Specificity'])\n",
    "    \n",
    "    for i, class_name in enumerate(patch_metrics.columns):\n",
    "        sens, spec = compute_class_sens_spec(pred, label, i)\n",
    "        patch_metrics.loc['Sensitivity', class_name] = round(sens,4)\n",
    "        patch_metrics.loc['Specificity', class_name] = round(spec,4)\n",
    "\n",
    "    return patch_metrics"
   ]
  },
  {
   "cell_type": "code",
   "execution_count": 37,
   "metadata": {
    "colab": {
     "base_uri": "https://localhost:8080/",
     "height": 68
    },
    "colab_type": "code",
    "id": "lBPqWFmspQHj",
    "outputId": "7efafc97-ed71-4e28-ae74-4be3d5533322"
   },
   "outputs": [
    {
     "name": "stdout",
     "output_type": "stream",
     "text": [
      "              Edema Non-Enhancing Tumor Enhancing Tumor\n",
      "Sensitivity  0.9085              0.9505          0.7891\n",
      "Specificity  0.9848              0.9961           0.996\n"
     ]
    }
   ],
   "source": [
    "df = get_sens_spec_df(patch_pred[0], y)\n",
    "\n",
    "print(df)"
   ]
  },
  {
   "cell_type": "markdown",
   "metadata": {},
   "source": [
    "#### Expected output\n",
    "```Python\n",
    "              Edema Non-Enhancing Tumor Enhancing Tumor\n",
    "Sensitivity  0.9085              0.9505          0.7891\n",
    "Specificity  0.9848              0.9961           0.996\n",
    "```"
   ]
  },
  {
   "cell_type": "markdown",
   "metadata": {
    "colab_type": "text",
    "id": "PoRrKnBmW0dk"
   },
   "source": [
    "<a name=\"5-3\"></a>\n",
    "## 5.3 Running on entire scans\n",
    "As of now, our model just runs on patches, but what we really want to see is our model's result on a whole MRI scan. \n",
    "\n",
    "- To do this, generate patches for the scan.\n",
    "- Then we run the model on the patches. \n",
    "- Then combine the results together to get a fully labeled MR image.\n",
    "\n",
    "The output of our model will be a 4D array with 3 probability values for each voxel in our data. \n",
    "- We then can use a threshold (which you can find by a calibration process) to decide whether or not to report a label for each voxel. \n",
    "\n",
    "We have written a function that stitches the patches together:  `predict_and_viz(image, label, model, threshold)` \n",
    "- Inputs: an image, label and model.\n",
    "- Ouputs: the model prediction over the whole image, and a visual of the ground truth and prediction. \n",
    "\n",
    "Run the following cell to see this function in action!\n",
    "\n",
    "#### Note: the prediction takes some time!\n",
    "- The first prediction will take about 7 to 8 minutes to run.\n",
    "- You can skip running this first prediction to save time."
   ]
  },
  {
   "cell_type": "code",
   "execution_count": 38,
   "metadata": {
    "colab": {
     "base_uri": "https://localhost:8080/",
     "height": 415
    },
    "colab_type": "code",
    "id": "-DUANuJD2_sm",
    "outputId": "d008adb5-f69c-4b98-e886-e70e8d759ed7"
   },
   "outputs": [],
   "source": [
    "# uncomment this code to run it\n",
    "# image, label = load_case(DATA_DIR + \"imagesTr/BRATS_001.nii.gz\", DATA_DIR + \"labelsTr/BRATS_001.nii.gz\")\n",
    "# pred = util.predict_and_viz(image, label, model, .5, loc=(130, 130, 77))                "
   ]
  },
  {
   "cell_type": "markdown",
   "metadata": {
    "colab_type": "text",
    "id": "-mI85bMEW0ds"
   },
   "source": [
    "Here's a second prediction.\n",
    "- Takes about 7 to 8 minutes to run\n",
    "\n",
    "Please run this second prediction so that we can check the predictions."
   ]
  },
  {
   "cell_type": "code",
   "execution_count": 39,
   "metadata": {
    "colab": {
     "base_uri": "https://localhost:8080/",
     "height": 415
    },
    "colab_type": "code",
    "id": "18m8pkA9W0dt",
    "outputId": "673151b3-2120-4609-f0d6-154b47e8516a"
   },
   "outputs": [
    {
     "ename": "KeyboardInterrupt",
     "evalue": "",
     "output_type": "error",
     "traceback": [
      "\u001b[0;31m---------------------------------------------------------------------------\u001b[0m",
      "\u001b[0;31mKeyboardInterrupt\u001b[0m                         Traceback (most recent call last)",
      "\u001b[0;32m<ipython-input-39-68a3679e4983>\u001b[0m in \u001b[0;36m<module>\u001b[0;34m()\u001b[0m\n\u001b[1;32m      1\u001b[0m \u001b[0mimage\u001b[0m\u001b[0;34m,\u001b[0m \u001b[0mlabel\u001b[0m \u001b[0;34m=\u001b[0m \u001b[0mload_case\u001b[0m\u001b[0;34m(\u001b[0m\u001b[0mDATA_DIR\u001b[0m \u001b[0;34m+\u001b[0m \u001b[0;34m\"imagesTr/BRATS_003.nii.gz\"\u001b[0m\u001b[0;34m,\u001b[0m \u001b[0mDATA_DIR\u001b[0m \u001b[0;34m+\u001b[0m \u001b[0;34m\"labelsTr/BRATS_003.nii.gz\"\u001b[0m\u001b[0;34m)\u001b[0m\u001b[0;34m\u001b[0m\u001b[0m\n\u001b[0;32m----> 2\u001b[0;31m \u001b[0mpred\u001b[0m \u001b[0;34m=\u001b[0m \u001b[0mutil\u001b[0m\u001b[0;34m.\u001b[0m\u001b[0mpredict_and_viz\u001b[0m\u001b[0;34m(\u001b[0m\u001b[0mimage\u001b[0m\u001b[0;34m,\u001b[0m \u001b[0mlabel\u001b[0m\u001b[0;34m,\u001b[0m \u001b[0mmodel\u001b[0m\u001b[0;34m,\u001b[0m \u001b[0;36m.5\u001b[0m\u001b[0;34m,\u001b[0m \u001b[0mloc\u001b[0m\u001b[0;34m=\u001b[0m\u001b[0;34m(\u001b[0m\u001b[0;36m130\u001b[0m\u001b[0;34m,\u001b[0m \u001b[0;36m130\u001b[0m\u001b[0;34m,\u001b[0m \u001b[0;36m77\u001b[0m\u001b[0;34m)\u001b[0m\u001b[0;34m)\u001b[0m\u001b[0;34m\u001b[0m\u001b[0m\n\u001b[0m",
      "\u001b[0;32m~/work/Week3/util.py\u001b[0m in \u001b[0;36mpredict_and_viz\u001b[0;34m(image, label, model, threshold, loc)\u001b[0m\n\u001b[1;32m    301\u001b[0m                 \u001b[0mp\u001b[0m \u001b[0;34m=\u001b[0m \u001b[0mnp\u001b[0m\u001b[0;34m.\u001b[0m\u001b[0mmoveaxis\u001b[0m\u001b[0;34m(\u001b[0m\u001b[0mimage\u001b[0m\u001b[0;34m[\u001b[0m\u001b[0mx\u001b[0m\u001b[0;34m:\u001b[0m \u001b[0mx\u001b[0m \u001b[0;34m+\u001b[0m \u001b[0;36m160\u001b[0m\u001b[0;34m,\u001b[0m \u001b[0my\u001b[0m\u001b[0;34m:\u001b[0m \u001b[0my\u001b[0m \u001b[0;34m+\u001b[0m \u001b[0;36m160\u001b[0m\u001b[0;34m,\u001b[0m \u001b[0mz\u001b[0m\u001b[0;34m:\u001b[0m\u001b[0mz\u001b[0m \u001b[0;34m+\u001b[0m \u001b[0;36m16\u001b[0m\u001b[0;34m]\u001b[0m\u001b[0;34m,\u001b[0m \u001b[0;36m3\u001b[0m\u001b[0;34m,\u001b[0m \u001b[0;36m0\u001b[0m\u001b[0;34m)\u001b[0m\u001b[0;34m\u001b[0m\u001b[0m\n\u001b[1;32m    302\u001b[0m                 \u001b[0mpatch\u001b[0m\u001b[0;34m[\u001b[0m\u001b[0;34m:\u001b[0m\u001b[0;34m,\u001b[0m \u001b[0;36m0\u001b[0m\u001b[0;34m:\u001b[0m\u001b[0mp\u001b[0m\u001b[0;34m.\u001b[0m\u001b[0mshape\u001b[0m\u001b[0;34m[\u001b[0m\u001b[0;36m1\u001b[0m\u001b[0;34m]\u001b[0m\u001b[0;34m,\u001b[0m \u001b[0;36m0\u001b[0m\u001b[0;34m:\u001b[0m\u001b[0mp\u001b[0m\u001b[0;34m.\u001b[0m\u001b[0mshape\u001b[0m\u001b[0;34m[\u001b[0m\u001b[0;36m2\u001b[0m\u001b[0;34m]\u001b[0m\u001b[0;34m,\u001b[0m \u001b[0;36m0\u001b[0m\u001b[0;34m:\u001b[0m\u001b[0mp\u001b[0m\u001b[0;34m.\u001b[0m\u001b[0mshape\u001b[0m\u001b[0;34m[\u001b[0m\u001b[0;36m3\u001b[0m\u001b[0;34m]\u001b[0m\u001b[0;34m]\u001b[0m \u001b[0;34m=\u001b[0m \u001b[0mp\u001b[0m\u001b[0;34m\u001b[0m\u001b[0m\n\u001b[0;32m--> 303\u001b[0;31m                 \u001b[0mpred\u001b[0m \u001b[0;34m=\u001b[0m \u001b[0mmodel\u001b[0m\u001b[0;34m.\u001b[0m\u001b[0mpredict\u001b[0m\u001b[0;34m(\u001b[0m\u001b[0mnp\u001b[0m\u001b[0;34m.\u001b[0m\u001b[0mexpand_dims\u001b[0m\u001b[0;34m(\u001b[0m\u001b[0mpatch\u001b[0m\u001b[0;34m,\u001b[0m \u001b[0;36m0\u001b[0m\u001b[0;34m)\u001b[0m\u001b[0;34m)\u001b[0m\u001b[0;34m\u001b[0m\u001b[0m\n\u001b[0m\u001b[1;32m    304\u001b[0m                 model_label[:, x:x + p.shape[1],\n\u001b[1;32m    305\u001b[0m                 \u001b[0my\u001b[0m\u001b[0;34m:\u001b[0m\u001b[0my\u001b[0m \u001b[0;34m+\u001b[0m \u001b[0mp\u001b[0m\u001b[0;34m.\u001b[0m\u001b[0mshape\u001b[0m\u001b[0;34m[\u001b[0m\u001b[0;36m2\u001b[0m\u001b[0;34m]\u001b[0m\u001b[0;34m,\u001b[0m\u001b[0;34m\u001b[0m\u001b[0m\n",
      "\u001b[0;32m/opt/conda/lib/python3.6/site-packages/keras/engine/training.py\u001b[0m in \u001b[0;36mpredict\u001b[0;34m(self, x, batch_size, verbose, steps, callbacks, max_queue_size, workers, use_multiprocessing)\u001b[0m\n\u001b[1;32m   1460\u001b[0m                                             \u001b[0mverbose\u001b[0m\u001b[0;34m=\u001b[0m\u001b[0mverbose\u001b[0m\u001b[0;34m,\u001b[0m\u001b[0;34m\u001b[0m\u001b[0m\n\u001b[1;32m   1461\u001b[0m                                             \u001b[0msteps\u001b[0m\u001b[0;34m=\u001b[0m\u001b[0msteps\u001b[0m\u001b[0;34m,\u001b[0m\u001b[0;34m\u001b[0m\u001b[0m\n\u001b[0;32m-> 1462\u001b[0;31m                                             callbacks=callbacks)\n\u001b[0m\u001b[1;32m   1463\u001b[0m \u001b[0;34m\u001b[0m\u001b[0m\n\u001b[1;32m   1464\u001b[0m     def train_on_batch(self, x, y,\n",
      "\u001b[0;32m/opt/conda/lib/python3.6/site-packages/keras/engine/training_arrays.py\u001b[0m in \u001b[0;36mpredict_loop\u001b[0;34m(model, f, ins, batch_size, verbose, steps, callbacks)\u001b[0m\n\u001b[1;32m    322\u001b[0m             \u001b[0mbatch_logs\u001b[0m \u001b[0;34m=\u001b[0m \u001b[0;34m{\u001b[0m\u001b[0;34m'batch'\u001b[0m\u001b[0;34m:\u001b[0m \u001b[0mbatch_index\u001b[0m\u001b[0;34m,\u001b[0m \u001b[0;34m'size'\u001b[0m\u001b[0;34m:\u001b[0m \u001b[0mlen\u001b[0m\u001b[0;34m(\u001b[0m\u001b[0mbatch_ids\u001b[0m\u001b[0;34m)\u001b[0m\u001b[0;34m}\u001b[0m\u001b[0;34m\u001b[0m\u001b[0m\n\u001b[1;32m    323\u001b[0m             \u001b[0mcallbacks\u001b[0m\u001b[0;34m.\u001b[0m\u001b[0m_call_batch_hook\u001b[0m\u001b[0;34m(\u001b[0m\u001b[0;34m'predict'\u001b[0m\u001b[0;34m,\u001b[0m \u001b[0;34m'begin'\u001b[0m\u001b[0;34m,\u001b[0m \u001b[0mbatch_index\u001b[0m\u001b[0;34m,\u001b[0m \u001b[0mbatch_logs\u001b[0m\u001b[0;34m)\u001b[0m\u001b[0;34m\u001b[0m\u001b[0m\n\u001b[0;32m--> 324\u001b[0;31m             \u001b[0mbatch_outs\u001b[0m \u001b[0;34m=\u001b[0m \u001b[0mf\u001b[0m\u001b[0;34m(\u001b[0m\u001b[0mins_batch\u001b[0m\u001b[0;34m)\u001b[0m\u001b[0;34m\u001b[0m\u001b[0m\n\u001b[0m\u001b[1;32m    325\u001b[0m             \u001b[0mbatch_outs\u001b[0m \u001b[0;34m=\u001b[0m \u001b[0mto_list\u001b[0m\u001b[0;34m(\u001b[0m\u001b[0mbatch_outs\u001b[0m\u001b[0;34m)\u001b[0m\u001b[0;34m\u001b[0m\u001b[0m\n\u001b[1;32m    326\u001b[0m             \u001b[0;32mif\u001b[0m \u001b[0mbatch_index\u001b[0m \u001b[0;34m==\u001b[0m \u001b[0;36m0\u001b[0m\u001b[0;34m:\u001b[0m\u001b[0;34m\u001b[0m\u001b[0m\n",
      "\u001b[0;32m/opt/conda/lib/python3.6/site-packages/tensorflow_core/python/keras/backend.py\u001b[0m in \u001b[0;36m__call__\u001b[0;34m(self, inputs)\u001b[0m\n\u001b[1;32m   3474\u001b[0m \u001b[0;34m\u001b[0m\u001b[0m\n\u001b[1;32m   3475\u001b[0m     fetched = self._callable_fn(*array_vals,\n\u001b[0;32m-> 3476\u001b[0;31m                                 run_metadata=self.run_metadata)\n\u001b[0m\u001b[1;32m   3477\u001b[0m     \u001b[0mself\u001b[0m\u001b[0;34m.\u001b[0m\u001b[0m_call_fetch_callbacks\u001b[0m\u001b[0;34m(\u001b[0m\u001b[0mfetched\u001b[0m\u001b[0;34m[\u001b[0m\u001b[0;34m-\u001b[0m\u001b[0mlen\u001b[0m\u001b[0;34m(\u001b[0m\u001b[0mself\u001b[0m\u001b[0;34m.\u001b[0m\u001b[0m_fetches\u001b[0m\u001b[0;34m)\u001b[0m\u001b[0;34m:\u001b[0m\u001b[0;34m]\u001b[0m\u001b[0;34m)\u001b[0m\u001b[0;34m\u001b[0m\u001b[0m\n\u001b[1;32m   3478\u001b[0m     output_structure = nest.pack_sequence_as(\n",
      "\u001b[0;32m/opt/conda/lib/python3.6/site-packages/tensorflow_core/python/client/session.py\u001b[0m in \u001b[0;36m__call__\u001b[0;34m(self, *args, **kwargs)\u001b[0m\n\u001b[1;32m   1470\u001b[0m         ret = tf_session.TF_SessionRunCallable(self._session._session,\n\u001b[1;32m   1471\u001b[0m                                                \u001b[0mself\u001b[0m\u001b[0;34m.\u001b[0m\u001b[0m_handle\u001b[0m\u001b[0;34m,\u001b[0m \u001b[0margs\u001b[0m\u001b[0;34m,\u001b[0m\u001b[0;34m\u001b[0m\u001b[0m\n\u001b[0;32m-> 1472\u001b[0;31m                                                run_metadata_ptr)\n\u001b[0m\u001b[1;32m   1473\u001b[0m         \u001b[0;32mif\u001b[0m \u001b[0mrun_metadata\u001b[0m\u001b[0;34m:\u001b[0m\u001b[0;34m\u001b[0m\u001b[0m\n\u001b[1;32m   1474\u001b[0m           \u001b[0mproto_data\u001b[0m \u001b[0;34m=\u001b[0m \u001b[0mtf_session\u001b[0m\u001b[0;34m.\u001b[0m\u001b[0mTF_GetBuffer\u001b[0m\u001b[0;34m(\u001b[0m\u001b[0mrun_metadata_ptr\u001b[0m\u001b[0;34m)\u001b[0m\u001b[0;34m\u001b[0m\u001b[0m\n",
      "\u001b[0;31mKeyboardInterrupt\u001b[0m: "
     ]
    }
   ],
   "source": [
    "image, label = load_case(DATA_DIR + \"imagesTr/BRATS_003.nii.gz\", DATA_DIR + \"labelsTr/BRATS_003.nii.gz\")\n",
    "pred = util.predict_and_viz(image, label, model, .5, loc=(130, 130, 77))                "
   ]
  },
  {
   "cell_type": "markdown",
   "metadata": {
    "colab_type": "text",
    "id": "PaiZrDrG7cHt"
   },
   "source": [
    "#### Check how well the predictions do\n",
    "\n",
    "We can see some of the discrepancies between the model and the ground truth visually. \n",
    "- We can also use the functions we wrote previously to compute sensitivity and specificity for each class over the whole scan.\n",
    "- First we need to format the label and prediction to match our functions expect."
   ]
  },
  {
   "cell_type": "code",
   "execution_count": null,
   "metadata": {
    "ExecuteTime": {
     "end_time": "2020-03-08T01:50:20.141287Z",
     "start_time": "2020-03-08T01:50:20.138316Z"
    },
    "colab": {},
    "colab_type": "code",
    "id": "H7pB-ZgPsl2N"
   },
   "outputs": [],
   "source": [
    "whole_scan_label = keras.utils.to_categorical(label, num_classes = 4)\n",
    "whole_scan_pred = pred\n",
    "\n",
    "# move axis to match shape expected in functions\n",
    "whole_scan_label = np.moveaxis(whole_scan_label, 3 ,0)[1:4]\n",
    "whole_scan_pred = np.moveaxis(whole_scan_pred, 3, 0)[1:4]"
   ]
  },
  {
   "cell_type": "markdown",
   "metadata": {
    "colab_type": "text",
    "id": "Iic-P_jl7viR"
   },
   "source": [
    "Now we can compute sensitivity and specificity for each class just like before."
   ]
  },
  {
   "cell_type": "code",
   "execution_count": null,
   "metadata": {
    "colab": {
     "base_uri": "https://localhost:8080/",
     "height": 68
    },
    "colab_type": "code",
    "id": "tpljPNBJ6k0k",
    "outputId": "adb78f68-6de9-4c8e-9ffb-163458a68b2f"
   },
   "outputs": [],
   "source": [
    "whole_scan_df = get_sens_spec_df(whole_scan_pred, whole_scan_label)\n",
    "\n",
    "print(whole_scan_df)"
   ]
  },
  {
   "cell_type": "markdown",
   "metadata": {
    "colab_type": "text",
    "id": "lglxceyGW0d0"
   },
   "source": [
    "# That's all for now!\n",
    "Congratulations on finishing this challenging assignment! You now know all the basics for building a neural auto-segmentation model for MRI images. We hope that you end up using these skills on interesting and challenging problems that you face in the real world.\n",
    "\n",
    "\n",
    "\n"
   ]
  }
 ],
 "metadata": {
  "accelerator": "GPU",
  "colab": {
   "collapsed_sections": [],
   "include_colab_link": true,
   "machine_shape": "hm",
   "name": "C1A4_Assignment.ipynb",
   "provenance": []
  },
  "coursera": {
   "schema_names": [
    "AI4MC1-3"
   ]
  },
  "kernelspec": {
   "display_name": "Python 3",
   "language": "python",
   "name": "python3"
  },
  "language_info": {
   "codemirror_mode": {
    "name": "ipython",
    "version": 3
   },
   "file_extension": ".py",
   "mimetype": "text/x-python",
   "name": "python",
   "nbconvert_exporter": "python",
   "pygments_lexer": "ipython3",
   "version": "3.6.3"
  }
 },
 "nbformat": 4,
 "nbformat_minor": 4
}
